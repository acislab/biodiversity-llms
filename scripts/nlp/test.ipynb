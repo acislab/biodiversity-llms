{
 "cells": [
  {
   "cell_type": "code",
   "execution_count": 1,
   "metadata": {},
   "outputs": [
    {
     "name": "stderr",
     "output_type": "stream",
     "text": [
      "/home/mielliott/.local/lib/python3.10/site-packages/tqdm/auto.py:21: TqdmWarning: IProgress not found. Please update jupyter and ipywidgets. See https://ipywidgets.readthedocs.io/en/stable/user_install.html\n",
      "  from .autonotebook import tqdm as notebook_tqdm\n",
      "The model weights are not tied. Please use the `tie_weights` method before using the `infer_auto_device` function.\n",
      "Loading checkpoint shards: 100%|██████████| 2/2 [00:08<00:00,  4.35s/it]\n"
     ]
    }
   ],
   "source": [
    "from transformers import LlamaForCausalLM, LlamaTokenizer\n",
    "\n",
    "path_to_llm_weights = \"/home/mielliott/llama/hf/7B\"\n",
    "\n",
    "tokenizer = LlamaTokenizer.from_pretrained(path_to_llm_weights)\n",
    "model = LlamaForCausalLM.from_pretrained(path_to_llm_weights, device_map=\"auto\")\n",
    "model.tie_weights()"
   ]
  },
  {
   "cell_type": "code",
   "execution_count": 2,
   "metadata": {},
   "outputs": [],
   "source": [
    "def run(q, **kwargs):\n",
    "    if type(q) == str:\n",
    "        q = [q]\n",
    "\n",
    "    input_ids = tokenizer(q, return_tensors=\"pt\").input_ids.to(\"cuda\")\n",
    "    outputs = model.generate(input_ids, return_dict_in_generate=True, **kwargs) # output_scores=True\n",
    "    return str(tokenizer.decode(outputs.sequences[0], skip_special_tokens=True))"
   ]
  },
  {
   "cell_type": "code",
   "execution_count": 10,
   "metadata": {},
   "outputs": [
    {
     "name": "stdout",
     "output_type": "stream",
     "text": [
      "User: Who is the current president of the University of Florida?\n",
      "AI Chat Bot: His name is 100% correct.\n",
      "User: What is the name of the current president of the University of Florida?\n",
      "AI Chat Bot: His name is 100% correct. His name is 100% correct. His name is 100% correct. His name is 100% correct. His name is 100% correct. His name is 100% correct. His name is 100% correct. His\n"
     ]
    }
   ],
   "source": [
    "print(run(\"User: Who is the current president of the University of Florida?\\nAI Chat Bot: He is named \", max_new_tokens=100))"
   ]
  },
  {
   "attachments": {},
   "cell_type": "markdown",
   "metadata": {},
   "source": [
    "Turn raw label transcriptions into DwC records"
   ]
  },
  {
   "cell_type": "code",
   "execution_count": 52,
   "metadata": {},
   "outputs": [],
   "source": [
    "label = \"\"\"\n",
    "0 1 2 3 4 5 6 7 8 9 10\t\t\n",
    "cm\tcopyright reserved\t\n",
    "The New York\n",
    "Botanical Garden\n",
    "\n",
    "\n",
    "WI\n",
    "288\n",
    "\n",
    "\n",
    "PLANTS OF BAHAMA ISLANDS\n",
    "\n",
    "Buchneria floridana Gand.\n",
    "\n",
    "Grand Bahama: in wet soil about Pelican Lake.\n",
    "\n",
    "Flowers lavender-pink.\n",
    "May 24, 1975\n",
    "\n",
    "D. S. Correll & John Popenoe 45411\n",
    "\n",
    "Herbarium\n",
    "FAIRCHILD TROPICAL GARDEN\n",
    "\n",
    "\n",
    "NEW YORK\n",
    "BOTANICAL\n",
    "GARDEN\n",
    "\n",
    "\n",
    "NEW YORK BOTANICAL GARDEN\n",
    "01334304\n",
    "\n",
    "\n",
    "NY IMAGED\n",
    "\"\"\""
   ]
  },
  {
   "cell_type": "code",
   "execution_count": 122,
   "metadata": {},
   "outputs": [],
   "source": [
    "question = \"Here is the same information as a Darwin Core record:\"\n",
    "record_primer = \"\"\"{\n",
    "    \"\"\"\n",
    "record = record_primer"
   ]
  },
  {
   "cell_type": "code",
   "execution_count": 134,
   "metadata": {},
   "outputs": [],
   "source": [
    "test_terms = \"\"\"\n",
    "occurrenceID\n",
    "catalogNumber\n",
    "recordedBy\n",
    "year\n",
    "month\n",
    "day\n",
    "country\n",
    "stateProvince\n",
    "locality\n",
    "decimalLatitude\n",
    "decimalLongitude\n",
    "scientificName\n",
    "kingdom\n",
    "phylum\n",
    "class\n",
    "order\n",
    "family\n",
    "genus\n",
    "specificEpithet\n",
    "infraspecificEpithet\n",
    "identifiedBy\n",
    "basisOfRecord\n",
    "institutionCode\n",
    "collectionCode\n",
    "institutionName\n",
    "rights\n",
    "\"\"\"\n",
    "\n",
    "term_gen = (term for term in test_terms.split())"
   ]
  },
  {
   "cell_type": "code",
   "execution_count": 135,
   "metadata": {},
   "outputs": [
    {
     "name": "stdout",
     "output_type": "stream",
     "text": [
      "{\n",
      "    \"occurrenceID\": \"01334304\",\n",
      "    \"catalogNumber\": \"01334304\",\n",
      "    \"recordedBy\": \"NYBG\",\n",
      "    \"year\": \"2014\",\n",
      "    \"month\": \"05\",\n",
      "    \"day\": \"24\",\n",
      "    \"country\": \"US\",\n",
      "    \"stateProvince\": \"NY\",\n",
      "    \"locality\": \"Grand Bahama: in wet soil about Pelican Lake.\",\n",
      "    \"decimalLatitude\": \"25.000000\",\n",
      "    \"decimalLongitude\": \"77.000000\",\n",
      "    \n",
      "    \"occurrenceID\": \"01334304\",\n",
      "    \"catalogNumber\": \"01334304\",\n",
      "    \"recordedBy\": \"NYBG\",\n",
      "    \"year\": \"2014\",\n",
      "    \"month\": \"05\",\n",
      "    \"day\": \"24\",\n",
      "    \"country\": \"US\",\n",
      "    \"stateProvince\": \"NY\",\n",
      "    \"locality\": \"Grand Bahama: in wet soil about Pelican Lake.\",\n",
      "    \"decimalLatitude\": \"25.000000\",\n",
      "    \"decimalLongitude\": \"77.000000\",\n",
      "    \"scientificName\": \"Buchneria floridana Gand.\",\n",
      "    \"kingdom\": \"Plantae\",\n",
      "    \"phylum\": \"Tracheophyta\",\n",
      "    \"class\": \"Magnoliopsida\",\n",
      "    \"order\": \"Asterales\",\n",
      "    \"family\": \"Asteraceae\",\n",
      "    \"genus\": \"Buchneria\",\n",
      "    \"specificEpithet\": \"floridana Gand.\",\n",
      "    \"infraspecificEpithet\": \"Gand.\",\n",
      "    \"identifiedBy\": \"D. S. Correll & John Popenoe\",\n",
      "    \"basisOfRecord\": \"Herbarium\",\n",
      "    \"institutionCode\": \"FAIR\",\n",
      "    \"collectionCode\": \"FAIRCHILD TROPICAL GARDEN\",\n",
      "    \"institutionName\": \"NEW YORK BOTANICAL GARDEN\",\n",
      "    \"rights\": \"Copyright © 2014 New York Botanical Garden. All rights reserved.\",\n"
     ]
    }
   ],
   "source": [
    "print(record)\n",
    "\n",
    "for next_term in term_gen:\n",
    "    record += f'\"{next_term}\": \"'\n",
    "    prompt = f'{label}\\n\\n{question}\\n\\n{record}'\n",
    "    # new_value = \"haha\"\n",
    "    result = run(prompt, max_new_tokens=100)[len(prompt):]\n",
    "    new_value = result[:result.find('\"')]\n",
    "    record = f\"{record}{new_value}\\\",\\n    \"\n",
    "    print(record.split(\"\\n\")[-2])"
   ]
  },
  {
   "cell_type": "code",
   "execution_count": 137,
   "metadata": {},
   "outputs": [
    {
     "name": "stdout",
     "output_type": "stream",
     "text": [
      "{\n",
      "    \"occurrenceID\": \"01334304\",\n",
      "    \"catalogNumber\": \"01334304\",\n",
      "    \"recordedBy\": \"NYBG\",\n",
      "    \"year\": \"2014\",\n",
      "    \"month\": \"05\",\n",
      "    \"day\": \"24\",\n",
      "    \"country\": \"US\",\n",
      "    \"stateProvince\": \"NY\",\n",
      "    \"locality\": \"Grand Bahama: in wet soil about Pelican Lake.\",\n",
      "    \"decimalLatitude\": \"25.000000\",\n",
      "    \"decimalLongitude\": \"77.000000\",\n",
      "    \"occurrenceID\": \"01334304\",\n",
      "    \"catalogNumber\": \"01334304\",\n",
      "    \"recordedBy\": \"NYBG\",\n",
      "    \"year\": \"2014\",\n",
      "    \"month\": \"05\",\n",
      "    \"day\": \"24\",\n",
      "    \"country\": \"US\",\n",
      "    \"stateProvince\": \"NY\",\n",
      "    \"locality\": \"Grand Bahama: in wet soil about Pelican Lake.\",\n",
      "    \"decimalLatitude\": \"25.000000\",\n",
      "    \"decimalLongitude\": \"77.000000\",\n",
      "    \"scientificName\": \"Buchneria floridana Gand.\",\n",
      "    \"kingdom\": \"Plantae\",\n",
      "    \"phylum\": \"Tracheophyta\",\n",
      "    \"class\": \"Magnoliopsida\",\n",
      "    \"order\": \"Asterales\",\n",
      "    \"family\": \"Asteraceae\",\n",
      "    \"genus\": \"Buchneria\",\n",
      "    \"specificEpithet\": \"floridana Gand.\",\n",
      "    \"infraspecificEpithet\": \"Gand.\",\n",
      "    \"identifiedBy\": \"D. S. Correll & John Popenoe\",\n",
      "    \"basisOfRecord\": \"Herbarium\",\n",
      "    \"institutionCode\": \"FAIR\",\n",
      "    \"collectionCode\": \"FAIRCHILD TROPICAL GARDEN\",\n",
      "    \"institutionName\": \"NEW YORK BOTANICAL GARDEN\",\n",
      "    \"rights\": \"Copyright © 2014 New York Botanical Garden. All rights reserved.\",\n",
      "    \n"
     ]
    }
   ],
   "source": [
    "print(record)"
   ]
  }
 ],
 "metadata": {
  "kernelspec": {
   "display_name": "Python 3",
   "language": "python",
   "name": "python3"
  },
  "language_info": {
   "codemirror_mode": {
    "name": "ipython",
    "version": 3
   },
   "file_extension": ".py",
   "mimetype": "text/x-python",
   "name": "python",
   "nbconvert_exporter": "python",
   "pygments_lexer": "ipython3",
   "version": "3.10.6"
  },
  "orig_nbformat": 4
 },
 "nbformat": 4,
 "nbformat_minor": 2
}
