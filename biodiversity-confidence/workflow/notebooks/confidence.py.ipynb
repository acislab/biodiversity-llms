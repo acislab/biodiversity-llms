{
 "cells": [
  {
   "cell_type": "markdown",
   "metadata": {},
   "source": [
    "# Process and grade LLM responses"
   ]
  },
  {
   "cell_type": "code",
   "execution_count": null,
   "metadata": {},
   "outputs": [],
   "source": [
    "import pandas as pd"
   ]
  },
  {
   "cell_type": "code",
   "execution_count": null,
   "metadata": {},
   "outputs": [],
   "source": [
    "# LLM = \"llama2-7b\"\n",
    "LLM = \"gpt-4-1106-preview\"\n",
    "RESULTS_WITH_UMS = f\"../../results/{LLM}/results-with-ums.tsv\"\n",
    "\n",
    "full_df = pd.read_csv(open(RESULTS_WITH_UMS, \"r\"))"
   ]
  },
  {
   "cell_type": "code",
   "execution_count": null,
   "metadata": {},
   "outputs": [],
   "source": [
    "import regex as re\n",
    "pattern = re.compile(\"^um[0-9]+_.+\")\n",
    "\n",
    "features = [c for c in full_df.columns if pattern.match(c) is not None]\n",
    "\n",
    "print(\"Num uncertainty measures:\", len(features))\n",
    "print(f\"\\n{features}\")"
   ]
  },
  {
   "cell_type": "code",
   "execution_count": null,
   "metadata": {},
   "outputs": [],
   "source": [
    "import numpy as np\n",
    "import matplotlib.pyplot as plt\n",
    "from sklearn.ensemble import HistGradientBoostingClassifier\n",
    "from sklearn.metrics import RocCurveDisplay\n",
    "from sklearn.metrics import PrecisionRecallDisplay\n",
    "roc_args = {\"marker\":\".\", \"linestyle\":\"--\"}\n",
    "\n",
    "train_df = full_df[full_df[\"train\"]]\n",
    "test_df = full_df[~full_df[\"train\"]]\n",
    "\n",
    "xgboost = HistGradientBoostingClassifier(\n",
    "    loss='log_loss',\n",
    "    # early_stopping=True,\n",
    "    min_samples_leaf=1,\n",
    "    max_iter=100,\n",
    "    monotonic_cst=np.ones_like(features, dtype=int)\n",
    ").fit(train_df[features], train_df[\"correct\"]) # categorical_features=[\"stateprovince\"]\n",
    "\n",
    "f, axes = plt.subplots(1, 2, figsize=(10, 4))\n",
    "\n",
    "axes[0].title.set_text(f\"ROC\")\n",
    "axes[1].title.set_text(f\"Precision-recall\")\n",
    "\n",
    "probs = xgboost.predict_proba(test_df[features])\n",
    "RocCurveDisplay.from_predictions(test_df[\"correct\"], probs[:,1], ax=axes[0], **roc_args);\n",
    "dis = PrecisionRecallDisplay.from_predictions(\n",
    "    test_df[\"correct\"], probs[:,1], name=\"PR\", plot_chance_level=True, drop_intermediate=True, ax=axes[1], drawstyle=\"default\", **roc_args\n",
    ")\n",
    "axes[1].set_ylim(0.5, 1)\n",
    "axes[1].legend()\n",
    "plt.show()"
   ]
  },
  {
   "cell_type": "code",
   "execution_count": null,
   "metadata": {},
   "outputs": [],
   "source": [
    "# train_df[\"certainty\"] = xgboost.predict_proba(train_df[features])[:,1]\n",
    "# train_df.to_csv(\"gpt4.tsv\", sep=\"\\t\")"
   ]
  }
 ],
 "metadata": {
  "kernelspec": {
   "display_name": "Python 3",
   "language": "python",
   "name": "python3"
  },
  "language_info": {
   "codemirror_mode": {
    "name": "ipython",
    "version": 3
   },
   "file_extension": ".py",
   "mimetype": "text/x-python",
   "name": "python",
   "nbconvert_exporter": "python",
   "pygments_lexer": "ipython3",
   "version": "3.12.1"
  },
  "orig_nbformat": 4
 },
 "nbformat": 4,
 "nbformat_minor": 2
}
