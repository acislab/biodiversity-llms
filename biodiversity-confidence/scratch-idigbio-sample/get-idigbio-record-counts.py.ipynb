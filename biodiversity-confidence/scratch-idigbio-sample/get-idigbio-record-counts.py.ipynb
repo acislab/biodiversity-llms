{
 "cells": [
  {
   "cell_type": "code",
   "execution_count": 19,
   "metadata": {},
   "outputs": [],
   "source": [
    "import json\n",
    "import requests as rq\n",
    "import os\n",
    "import time\n",
    "import pandas as pd\n",
    "import numpy as np\n",
    "import requests as rq"
   ]
  },
  {
   "cell_type": "code",
   "execution_count": 63,
   "metadata": {},
   "outputs": [
    {
     "data": {
      "text/plain": [
       "12133"
      ]
     },
     "execution_count": 63,
     "metadata": {},
     "output_type": "execute_result"
    }
   ],
   "source": [
    "presence_with_fungi = pd.read_csv(\"../results/idigbio-sample/input/presence.tsv\", sep=\"\\t\")\n",
    "presence = presence_with_fungi[presence_with_fungi[\"kingdom\"] != \"fungi\"]\n",
    "len(presence)"
   ]
  },
  {
   "cell_type": "code",
   "execution_count": 3,
   "metadata": {},
   "outputs": [
    {
     "data": {
      "text/plain": [
       "kingdom                    plantae\n",
       "phylum                 dicotyledon\n",
       "family                  asteraceae\n",
       "genus                      Acmella\n",
       "specificepithet            ciliata\n",
       "country                     Brasil\n",
       "stateprovince                 Acre\n",
       "county             Cruzeiro Do Sul\n",
       "Name: 300, dtype: object"
      ]
     },
     "execution_count": 3,
     "metadata": {},
     "output_type": "execute_result"
    }
   ],
   "source": [
    "presence.iloc[0]"
   ]
  },
  {
   "cell_type": "code",
   "execution_count": 28,
   "metadata": {},
   "outputs": [
    {
     "data": {
      "text/plain": [
       "'ahahahaha'"
      ]
     },
     "execution_count": 28,
     "metadata": {},
     "output_type": "execute_result"
    }
   ],
   "source": [
    "import regex as re\n",
    "re.sub(r'[^\\w]', '', \"ahahah[]aha\")"
   ]
  },
  {
   "cell_type": "code",
   "execution_count": 61,
   "metadata": {},
   "outputs": [
    {
     "data": {
      "text/html": [
       "<div>\n",
       "<style scoped>\n",
       "    .dataframe tbody tr th:only-of-type {\n",
       "        vertical-align: middle;\n",
       "    }\n",
       "\n",
       "    .dataframe tbody tr th {\n",
       "        vertical-align: top;\n",
       "    }\n",
       "\n",
       "    .dataframe thead th {\n",
       "        text-align: right;\n",
       "    }\n",
       "</style>\n",
       "<table border=\"1\" class=\"dataframe\">\n",
       "  <thead>\n",
       "    <tr style=\"text-align: right;\">\n",
       "      <th></th>\n",
       "      <th>kingdom</th>\n",
       "      <th>phylum</th>\n",
       "      <th>family</th>\n",
       "      <th>genus</th>\n",
       "      <th>specificepithet</th>\n",
       "      <th>country</th>\n",
       "      <th>stateprovince</th>\n",
       "      <th>county</th>\n",
       "    </tr>\n",
       "  </thead>\n",
       "  <tbody>\n",
       "  </tbody>\n",
       "</table>\n",
       "</div>"
      ],
      "text/plain": [
       "Empty DataFrame\n",
       "Columns: [kingdom, phylum, family, genus, specificepithet, country, stateprovince, county]\n",
       "Index: []"
      ]
     },
     "execution_count": 61,
     "metadata": {},
     "output_type": "execute_result"
    }
   ],
   "source": [
    "presence[presence[\"county\"] == \"Rockland\"]"
   ]
  },
  {
   "cell_type": "code",
   "execution_count": 38,
   "metadata": {},
   "outputs": [],
   "source": [
    "def trim_county_name(county):\n",
    "    parts = county.split()\n",
    "    if len(parts) > 1 and re.sub(r'[^\\w]', '', parts[-1]).lower() in (\"co\", \"county\", \"mun\", \"par\", \"prov\"):\n",
    "        return \" \".join(parts[:-1])\n",
    "    else:\n",
    "        return county"
   ]
  },
  {
   "cell_type": "code",
   "execution_count": 39,
   "metadata": {},
   "outputs": [],
   "source": [
    "def make_record_count_query(record):\n",
    "    search_values = record.astype(str).to_dict()\n",
    "    if \"county\" in search_values:\n",
    "        search_values[\"county\"] = {\n",
    "            \"type\": \"prefix\",\n",
    "            \"value\": trim_county_name(search_values[\"county\"])\n",
    "        }\n",
    "    return {\n",
    "        \"rq\": search_values,\n",
    "        \"limit\": 1,\n",
    "        \"offset\": 0\n",
    "    }"
   ]
  },
  {
   "cell_type": "code",
   "execution_count": 45,
   "metadata": {},
   "outputs": [],
   "source": [
    "def get_record_count(record):\n",
    "    query = make_record_count_query(record)\n",
    "    return rq.post(\"http://search.idigbio.org/v2/search/records/\", json=query).json()[\"itemCount\"]"
   ]
  },
  {
   "cell_type": "code",
   "execution_count": 64,
   "metadata": {},
   "outputs": [],
   "source": [
    "group_by = [\"country\", \"stateprovince\", \"county\"]\n",
    "df = presence_with_fungi[group_by].drop_duplicates()\n",
    "df[\"county\"] = df[\"county\"].map(trim_county_name)\n",
    "df.drop_duplicates()\n",
    "df[\"record count\"] = df.apply(axis=1, func=get_record_count)\n",
    "counties = df"
   ]
  },
  {
   "cell_type": "code",
   "execution_count": 65,
   "metadata": {},
   "outputs": [],
   "source": [
    "counties.to_csv(\"../results/idigbio-sample/input/record-counts-by-county.tsv\", sep=\"\\t\", index=False)"
   ]
  },
  {
   "cell_type": "code",
   "execution_count": 66,
   "metadata": {},
   "outputs": [],
   "source": [
    "group_by = [\"country\", \"stateprovince\"]\n",
    "df = presence_with_fungi[group_by].drop_duplicates()\n",
    "df[\"record count\"] = df.apply(axis=1, func=get_record_count)\n",
    "stateprovinces = df"
   ]
  },
  {
   "cell_type": "code",
   "execution_count": 67,
   "metadata": {},
   "outputs": [],
   "source": [
    "stateprovinces.to_csv(\"../results/idigbio-sample/input/record-counts-by-stateprovince.tsv\", sep=\"\\t\", index=False)"
   ]
  },
  {
   "cell_type": "code",
   "execution_count": 10,
   "metadata": {},
   "outputs": [],
   "source": [
    "group_by = [\"kingdom\", \"phylum\", \"family\", \"genus\", \"specificepithet\"]\n",
    "df = presence[group_by].drop_duplicates()\n",
    "df[\"record count\"] = df.apply(axis=1, func=get_record_count)\n",
    "species = df"
   ]
  },
  {
   "cell_type": "code",
   "execution_count": 11,
   "metadata": {},
   "outputs": [],
   "source": [
    "species.to_csv(\"../results/idigbio-sample/input/record-counts-by-species.tsv\", sep=\"\\t\", index=False)"
   ]
  },
  {
   "cell_type": "code",
   "execution_count": 12,
   "metadata": {},
   "outputs": [],
   "source": [
    "group_by = [\"kingdom\", \"phylum\", \"family\", \"genus\"]\n",
    "df = presence[group_by].drop_duplicates()\n",
    "df[\"record count\"] = df.apply(axis=1, func=get_record_count)\n",
    "genera = df"
   ]
  },
  {
   "cell_type": "code",
   "execution_count": 13,
   "metadata": {},
   "outputs": [],
   "source": [
    "genera.to_csv(\"../results/idigbio-sample/input/record-counts-by-genus.tsv\", sep=\"\\t\", index=False)"
   ]
  },
  {
   "cell_type": "code",
   "execution_count": 14,
   "metadata": {},
   "outputs": [],
   "source": [
    "group_by = [\"kingdom\", \"phylum\", \"family\"]\n",
    "df = presence[group_by].drop_duplicates()\n",
    "df[\"record count\"] = df.apply(axis=1, func=get_record_count)\n",
    "families = df"
   ]
  },
  {
   "cell_type": "code",
   "execution_count": 15,
   "metadata": {},
   "outputs": [],
   "source": [
    "families.to_csv(\"../results/idigbio-sample/input/record-counts-by-family.tsv\", sep=\"\\t\", index=False)"
   ]
  },
  {
   "cell_type": "code",
   "execution_count": 16,
   "metadata": {},
   "outputs": [],
   "source": [
    "group_by = [\"kingdom\", \"phylum\"]\n",
    "df = presence[group_by].drop_duplicates()\n",
    "df[\"record count\"] = df.apply(axis=1, func=get_record_count)\n",
    "phyla = df"
   ]
  },
  {
   "cell_type": "code",
   "execution_count": 17,
   "metadata": {},
   "outputs": [],
   "source": [
    "phyla.to_csv(\"../results/idigbio-sample/input/record-counts-by-phylum.tsv\", sep=\"\\t\", index=False)"
   ]
  }
 ],
 "metadata": {
  "kernelspec": {
   "display_name": "llm",
   "language": "python",
   "name": "python3"
  },
  "language_info": {
   "codemirror_mode": {
    "name": "ipython",
    "version": 3
   },
   "file_extension": ".py",
   "mimetype": "text/x-python",
   "name": "python",
   "nbconvert_exporter": "python",
   "pygments_lexer": "ipython3",
   "version": "3.12.1"
  }
 },
 "nbformat": 4,
 "nbformat_minor": 2
}
