{
 "cells": [
  {
   "cell_type": "code",
   "execution_count": null,
   "metadata": {},
   "outputs": [],
   "source": [
    "\n",
    "######## snakemake preamble start (automatically inserted, do not edit) ########\n",
    "import sys; sys.path.extend(['/home/mielliott/mambaforge/envs/snakemake/lib/python3.12/site-packages', '/home/mielliott/biodiversity-llms/tdwg2023/v2/workflow/rules', '/home/mielliott/biodiversity-llms/tdwg2023/v2/workflow', '/home/mielliott/mambaforge/envs/snakemake/bin', '/home/mielliott/mambaforge/envs/snakemake/lib/python3.12', '/home/mielliott/mambaforge/envs/snakemake/lib/python3.12/lib-dynload', '/home/mielliott/mambaforge/envs/snakemake/lib/python3.12/site-packages', '/home/mielliott/biodiversity-llms/tdwg2023/v2/workflow/notebooks']); import pickle; snakemake = pickle.loads(b'\\x80\\x04\\x95\\xcc\\x08\\x00\\x00\\x00\\x00\\x00\\x00\\x8c\\x10snakemake.script\\x94\\x8c\\tSnakemake\\x94\\x93\\x94)\\x81\\x94}\\x94(\\x8c\\x05input\\x94\\x8c\\x0csnakemake.io\\x94\\x8c\\nInputFiles\\x94\\x93\\x94)\\x81\\x94\\x8c\"results/gpt-3.5-turbo-0613/all.tsv\\x94a}\\x94(\\x8c\\x06_names\\x94}\\x94\\x8c\\tresponses\\x94K\\x00N\\x86\\x94s\\x8c\\x12_allowed_overrides\\x94]\\x94(\\x8c\\x05index\\x94\\x8c\\x04sort\\x94eh\\x12\\x8c\\tfunctools\\x94\\x8c\\x07partial\\x94\\x93\\x94h\\x06\\x8c\\x19Namedlist._used_attribute\\x94\\x93\\x94\\x85\\x94R\\x94(h\\x18)}\\x94\\x8c\\x05_name\\x94h\\x12sNt\\x94bh\\x13h\\x16h\\x18\\x85\\x94R\\x94(h\\x18)}\\x94h\\x1ch\\x13sNt\\x94bh\\x0eh\\nub\\x8c\\x06output\\x94h\\x06\\x8c\\x0bOutputFiles\\x94\\x93\\x94)\\x81\\x94\\x8c\\x08all.done\\x94a}\\x94(h\\x0c}\\x94h\\x10]\\x94(h\\x12h\\x13eh\\x12h\\x16h\\x18\\x85\\x94R\\x94(h\\x18)}\\x94h\\x1ch\\x12sNt\\x94bh\\x13h\\x16h\\x18\\x85\\x94R\\x94(h\\x18)}\\x94h\\x1ch\\x13sNt\\x94bub\\x8c\\x06params\\x94h\\x06\\x8c\\x06Params\\x94\\x93\\x94)\\x81\\x94K\\x07a}\\x94(h\\x0c}\\x94\\x8c\\rnum_phrasings\\x94K\\x00N\\x86\\x94sh\\x10]\\x94(h\\x12h\\x13eh\\x12h\\x16h\\x18\\x85\\x94R\\x94(h\\x18)}\\x94h\\x1ch\\x12sNt\\x94bh\\x13h\\x16h\\x18\\x85\\x94R\\x94(h\\x18)}\\x94h\\x1ch\\x13sNt\\x94bh8K\\x07ub\\x8c\\twildcards\\x94h\\x06\\x8c\\tWildcards\\x94\\x93\\x94)\\x81\\x94}\\x94(h\\x0c}\\x94h\\x10]\\x94(h\\x12h\\x13eh\\x12h\\x16h\\x18\\x85\\x94R\\x94(h\\x18)}\\x94h\\x1ch\\x12sNt\\x94bh\\x13h\\x16h\\x18\\x85\\x94R\\x94(h\\x18)}\\x94h\\x1ch\\x13sNt\\x94bub\\x8c\\x07threads\\x94K\\x01\\x8c\\tresources\\x94h\\x06\\x8c\\tResources\\x94\\x93\\x94)\\x81\\x94(K\\x01K\\x01\\x8c\\x04/tmp\\x94e}\\x94(h\\x0c}\\x94(\\x8c\\x06_cores\\x94K\\x00N\\x86\\x94\\x8c\\x06_nodes\\x94K\\x01N\\x86\\x94\\x8c\\x06tmpdir\\x94K\\x02N\\x86\\x94uh\\x10]\\x94(h\\x12h\\x13eh\\x12h\\x16h\\x18\\x85\\x94R\\x94(h\\x18)}\\x94h\\x1ch\\x12sNt\\x94bh\\x13h\\x16h\\x18\\x85\\x94R\\x94(h\\x18)}\\x94h\\x1ch\\x13sNt\\x94bhZK\\x01h\\\\K\\x01h^hWub\\x8c\\x03log\\x94h\\x06\\x8c\\x03Log\\x94\\x93\\x94)\\x81\\x94\\x8c\\'logs/notebooks/processed_notebook.ipynb\\x94a}\\x94(h\\x0c}\\x94\\x8c\\x08notebook\\x94K\\x00N\\x86\\x94sh\\x10]\\x94(h\\x12h\\x13eh\\x12h\\x16h\\x18\\x85\\x94R\\x94(h\\x18)}\\x94h\\x1ch\\x12sNt\\x94bh\\x13h\\x16h\\x18\\x85\\x94R\\x94(h\\x18)}\\x94h\\x1ch\\x13sNt\\x94bhphmub\\x8c\\x06config\\x94}\\x94(\\x8c\\x03llm\\x94\\x8c\\x12gpt-3.5-turbo-0613\\x94\\x8c\\x0brandom_seed\\x94J\\xd7\\x10\\x01\\x00\\x8c\\x07raw_dir\\x94\\x8c./home/mielliott/biodiversity-llms/tdwg2023/raw\\x94\\x8c\\x08qa_limit\\x94K\\x03\\x8c\\rqa_batch_size\\x94Kd\\x8c\\nqa_command\\x94\\x8c-python3 ~/biodiversity-llms/scripts/nlp/qa.py\\x94\\x8c\\x07qa_args\\x94]\\x94(\\x8c\\x0e--max-tokens 1\\x94\\x8c\\x0c--timeout 10\\x94\\x8c\\x12--num-responses 10\\x94\\x8c\\x13--combine_responses\\x94\\x8c\\x1a--model gpt-3.5-turbo-0613\\x94e\\x8c\\tqa_fields\\x94]\\x94(\\x8c\\x07kingdom\\x94\\x8c\\x06phylum\\x94\\x8c\\x06family\\x94\\x8c\\x05genus\\x94\\x8c\\x0fspecificepithet\\x94\\x8c\\x07country\\x94\\x8c\\rstateprovince\\x94\\x8c\\x06county\\x94e\\x8c\\x0fqa_base_queries\\x94]\\x94(\\x8cWDoes {genus} {specificepithet} naturally occur in {county}, {stateprovince}, {country}?\\x94\\x8cWCan species {genus} {specificepithet} be found in {county}, {stateprovince}, {country}?\\x94\\x8cfIs it possible to encounter species {genus} {specificepithet} in {county}, {stateprovince}, {country}?\\x94\\x8ceIs there a presence of species {genus} {specificepithet} within {county}, {stateprovince}, {country}?\\x94\\x8cSDoes {county}, {stateprovince}, {country} harbor species {genus} {specificepithet}?\\x94\\x8cUIs species {genus} {specificepithet} present in {county}, {stateprovince}, {country}?\\x94\\x8cZCan one observe species {genus} {specificepithet} in {county}, {stateprovince}, {country}?\\x94e\\x8c\\x0fqa_query_suffix\\x94\\x8c\\x17Only respond yes or no.\\x94u\\x8c\\x04rule\\x94\\x8c\\x0fanalyze_results\\x94\\x8c\\x0fbench_iteration\\x94N\\x8c\\tscriptdir\\x94\\x8c@/home/mielliott/biodiversity-llms/tdwg2023/v2/workflow/notebooks\\x94ub.'); from snakemake.logging import logger; logger.printshellcmds = False; import os; os.chdir(r'/home/mielliott/biodiversity-llms/tdwg2023/v2');\n",
    "######## snakemake preamble end #########\n"
   ]
  },
  {
   "cell_type": "markdown",
   "metadata": {},
   "source": [
    "# Process and grade LLM responses"
   ]
  },
  {
   "cell_type": "code",
   "execution_count": null,
   "metadata": {},
   "outputs": [],
   "source": [
    "import os\n",
    "import matplotlib.pyplot as plt\n",
    "import pandas as pd\n",
    "from collections import Counter\n",
    "from typing import NamedTuple"
   ]
  },
  {
   "cell_type": "code",
   "execution_count": null,
   "metadata": {},
   "outputs": [],
   "source": [
    "class Files(NamedTuple):\n",
    "    responses: str\n",
    "\n",
    "class Env(NamedTuple):\n",
    "    files: Files\n",
    "    num_phrasings: int\n",
    "\n",
    "if \"snakemake\" in globals():\n",
    "    env = Env(\n",
    "        files=snakemake.input,\n",
    "        num_phrasings=len(snakemake.config[\"qa_base_queries\"]) # snakemake.params is always empty :( Use config instead\n",
    "    )\n",
    "else:\n",
    "    env = Env(\n",
    "        files = Files(\n",
    "            responses=os.path.join(\"resources\", \"legacy\", \"out\", \"t1-2-all.tsv\")\n",
    "        ),\n",
    "        num_phrasings=6\n",
    "    )"
   ]
  },
  {
   "cell_type": "code",
   "execution_count": null,
   "metadata": {},
   "outputs": [],
   "source": [
    "query_fields = [\"kingdom\", \"phylum\", \"family\", \"genus\", \"specificepithet\", \"country\", \"stateprovince\", \"county\"]\n",
    "\n",
    "def count_item(values, item):\n",
    "    counts = dict(Counter(values).most_common())\n",
    "    return counts[item] if item in counts else 0\n",
    "\n",
    "def make_id(df):\n",
    "    return df.apply(lambda r: hash(\"\".join([str(v) for v in r.values]).lower()), axis=1)\n",
    "\n",
    "def get_results(responses):\n",
    "    df = pd.read_csv(open(responses), sep=\"\\t\")\n",
    "\n",
    "    df[\"phrasing\"] = df[\"question number\"].astype(int) % env.num_phrasings\n",
    "    df[\"target\"] = (df[\"present\"] == \"Yes\").astype(int) * 2 - 1\n",
    "    df[\"query id\"] = make_id(df[query_fields])\n",
    "\n",
    "    df[\"response id\"] = make_id(df[[\"query id\", \"phrasing\"]])\n",
    "    df = df.groupby(\"response id\").head(1) # Drop responses for repeated questions\n",
    "\n",
    "    df[\"scores\"] = df[\"responses\"].apply(lambda r: count_item(r.lower().split(), \"yes\"))\n",
    "    df[\"yesnos\"] = df[\"responses\"].apply(lambda r: count_item(r.lower().split(), \"yes\") + count_item(r.lower().split(), \"no\"))\n",
    "    df[\"abstains\"] = 10 - df[\"yesnos\"]\n",
    "\n",
    "    df[\"prediction\"] = df[\"scores\"].apply(lambda x: -1 if x == 0 else 1) #.apply(lambda x: min(1, max(-1, x)))\n",
    "    df[\"correct\"] = df[\"prediction\"] * df[\"target\"]\n",
    "\n",
    "    return df"
   ]
  },
  {
   "cell_type": "code",
   "execution_count": null,
   "metadata": {},
   "outputs": [],
   "source": [
    "unused_fields = [\"query\", \"responses\", \"input token count\", \"output token count\"]\n",
    "\n",
    "res = get_results(env.files.responses)\\\n",
    "    .drop(columns=unused_fields)\n",
    "\n",
    "# Drop records with the same family and genus, they cause headaches later\n",
    "res = res[res[\"genus\"].apply(lambda s: s.lower()) != res[\"family\"].apply(lambda s: s.lower())]\n",
    "\n",
    "res.head(1)"
   ]
  },
  {
   "cell_type": "code",
   "execution_count": null,
   "metadata": {},
   "outputs": [],
   "source": [
    "res.groupby([\"phrasing\"])[\"correct\"].mean()"
   ]
  },
  {
   "cell_type": "code",
   "execution_count": null,
   "metadata": {},
   "outputs": [],
   "source": [
    "kpfg_scores = pd.read_csv(open(\"../taxonomy/results/kpfg_scores.tsv\", \"r\"), sep=\"\\t\")\n",
    "kpfg_scores[\"accuracy\"] = (1 + kpfg_scores[\"num_correct\"]) / (2 + kpfg_scores[\"num_response\"])\n",
    "kpfg_scores = kpfg_scores.set_index([\"subject rank\", \"taxon\"])\n",
    "kpfg_scores.head(2)"
   ]
  },
  {
   "cell_type": "code",
   "execution_count": null,
   "metadata": {},
   "outputs": [],
   "source": [
    "phrasing_avg_pred = res.groupby(\"query id\")[\"prediction\"].mean()\n",
    "phrasing_var_score = res.groupby(\"query id\")[\"scores\"].var()\n",
    "record_counts_by_taxon = pd.read_csv(open(\"../processed/taxon-counts.tsv\", \"r\"), sep=\"\\t\").set_index([\"kingdom\", \"phylum\", \"family\"])"
   ]
  },
  {
   "cell_type": "code",
   "execution_count": null,
   "metadata": {},
   "outputs": [],
   "source": [
    "def get_ums(instance):\n",
    "    # TODO: condition um3 on prediction?\n",
    "    um5 = record_counts_by_taxon.loc[instance[\"kingdom\"], instance[\"phylum\"], instance[\"family\"]]\n",
    "    um1_present = instance[\"scores\"]\n",
    "    um1_absent = 1 if um1_present == 0 else 0\n",
    "\n",
    "    return pd.Series({\n",
    "        \"um1_present\": um1_present,\n",
    "        \"um1_absent\": um1_absent,\n",
    "        \"um1_either\": um1_present + um1_absent,\n",
    "        \"um2\": 1.0 - instance[\"abstains\"] / 10.0,\n",
    "        \"um3_kingdom\": acc_by_rank[\"kingdom\"][instance[\"kingdom\"]],\n",
    "        \"um3_phylum\": acc_by_rank[\"phylum\"][instance[\"phylum\"]],\n",
    "        \"um3_family\": acc_by_rank[\"family\"][instance[\"family\"]],\n",
    "        \"um3_country\": acc_by_country[instance[\"country\"]],\n",
    "        \"um3_stateprovince\": acc_by_country[instance[\"country\"]],\n",
    "        \"um4_agreement\": phrasing_avg_pred[instance[\"query id\"]] * -instance[\"prediction\"],\n",
    "        \"um4_score_var\": phrasing_var_score[instance[\"query id\"]],\n",
    "        \"um5_kingdom\": um5[\"kingdomCount\"],\n",
    "        \"um5_phylum\": um5[\"phylumCount\"],\n",
    "        \"um5_family\": um5[\"familyCount\"],\n",
    "        \"um6_phylum\": kpfg_scores[\"accuracy\"][\"phylum\"][instance[\"phylum\"].lower()],\n",
    "        \"um6_family\": kpfg_scores[\"accuracy\"][\"family\"][instance[\"family\"].lower()],\n",
    "        \"um6_genus\": kpfg_scores[\"accuracy\"][\"genus\"][instance[\"genus\"].lower()],\n",
    "        \"um7_phylum\": kpfg_scores[\"num_response\"][\"phylum\"][instance[\"phylum\"].lower()] / 10,\n",
    "        \"um7_family\": kpfg_scores[\"num_response\"][\"family\"][instance[\"family\"].lower()] / 40,\n",
    "        \"um7_genus\": kpfg_scores[\"num_response\"][\"genus\"][instance[\"genus\"].lower()] / 50,\n",
    "    })"
   ]
  },
  {
   "cell_type": "code",
   "execution_count": null,
   "metadata": {},
   "outputs": [],
   "source": [
    "df = res\n",
    "df = df[(df[\"correct\"] != 0) * (df[\"phrasing\"] == 0)]\n",
    "\n",
    "def get_acc_by_field(d, field, smoothing=1):\n",
    "    num_records = d.groupby(field).size()\n",
    "    num_correct = smoothing + d[d[\"correct\"] == 1].groupby(field).size().reindex(num_records.index).fillna(0)\n",
    "    num_incorrect = smoothing + d[d[\"correct\"] == -1].groupby(field).size().reindex(num_records.index).fillna(0)\n",
    "    return num_correct / (num_correct + num_incorrect)\n",
    "\n",
    "acc_by_rank = pd.Series({rank: get_acc_by_field(df, rank) for rank in [\"kingdom\", \"phylum\", \"family\"]})\n",
    "acc_by_country = get_acc_by_field(df, \"country\")\n",
    "acc_by_stateprovince = get_acc_by_field(df, \"stateprovince\")\n",
    "\n",
    "train_df = pd.concat([df.apply(lambda row: get_ums(row), axis=1), df], axis=1)"
   ]
  },
  {
   "cell_type": "code",
   "execution_count": null,
   "metadata": {},
   "outputs": [],
   "source": [
    "train_df.groupby(\"target\")[\"correct\"].mean() * .5 + .5"
   ]
  },
  {
   "cell_type": "code",
   "execution_count": null,
   "metadata": {},
   "outputs": [],
   "source": [
    "train_df.groupby(\"kingdom\")[\"correct\"].mean() * .5 + .5"
   ]
  },
  {
   "cell_type": "code",
   "execution_count": null,
   "metadata": {},
   "outputs": [],
   "source": [
    "train_kingdoms = [\n",
    "    \"animalia\",\n",
    "    \"plantae\",\n",
    "    # \"fungi\"\n",
    "]\n",
    "    \n",
    "test_kingdoms = [\n",
    "    \"animalia\",\n",
    "    \"plantae\",\n",
    "    \"fungi\"\n",
    "]\n",
    "\n",
    "test_fraction = .5\n",
    "\n",
    "features = [\n",
    "    \"um1_present\", # um1: scores\n",
    "    \"um1_absent\",\n",
    "    \"um1_either\",\n",
    "    \"um2\", # um2: number of abstains\n",
    "    \"um3_kingdom\", # um3: accuracy by field values\n",
    "    \"um3_phylum\",\n",
    "    # 'um3_family',\n",
    "    \"um3_country\",\n",
    "    \"um3_stateprovince\",\n",
    "    \"um4_agreement\", # Variance in scores with phrasing changes\n",
    "    \"um4_score_var\",\n",
    "    'um5_kingdom', # um5: iDigBio record counts by taxonomic ranks\n",
    "    'um5_phylum',\n",
    "    'um5_family',\n",
    "    \"um6_phylum\", # Accuracy on taxonomy questions\n",
    "    \"um6_family\",\n",
    "    \"um6_genus\",\n",
    "    \"um7_phylum\", # Number of yes-no responses to taxonomy questions\n",
    "    \"um7_family\",\n",
    "    \"um7_genus\",\n",
    "]\n",
    "\n",
    "predictions = {\n",
    "    -1,\n",
    "     1\n",
    "}\n",
    "\n",
    "only_valid_absences = True"
   ]
  },
  {
   "cell_type": "code",
   "execution_count": null,
   "metadata": {},
   "outputs": [],
   "source": [
    "import numpy as np\n",
    "from sklearn.ensemble import HistGradientBoostingClassifier\n",
    "from sklearn.model_selection import train_test_split\n",
    "from sklearn.metrics import RocCurveDisplay\n",
    "from sklearn.metrics import PrecisionRecallDisplay\n",
    "roc_args = {\"marker\":\".\", \"linestyle\":\"--\"}\n",
    "\n",
    "if only_valid_absences and \"valid\" in train_df:\n",
    "    tdf = train_df[train_df[\"valid\"]]\n",
    "else:\n",
    "    tdf = train_df\n",
    "\n",
    "if len(train_kingdoms) > 0:\n",
    "    train_set = tdf[tdf[\"kingdom\"].isin(train_kingdoms)]\n",
    "    test_set = tdf[tdf[\"kingdom\"].isin(test_kingdoms)]\n",
    "else:\n",
    "    train_set, test_set = train_test_split(\n",
    "        tdf[tdf[\"kingdom\"].isin(test_kingdoms) * tdf[\"prediction\"].isin(predictions)],\n",
    "        test_size=test_fraction\n",
    "    )\n",
    "\n",
    "\n",
    "xgboost = HistGradientBoostingClassifier(\n",
    "    loss='log_loss',\n",
    "    # early_stopping=True,\n",
    "    min_samples_leaf=1,\n",
    "    max_iter=100,\n",
    "    monotonic_cst=np.ones_like(features, dtype=int)\n",
    ").fit(train_set[features], train_set[\"correct\"]) # categorical_features=[\"stateprovince\"]\n",
    "\n",
    "# get_ums(instance)[features].to_frame().transpose()\n",
    "# probs = np.random.uniform(0, 1, len(test_set))\n",
    "# probs = np.column_stack((probs, 1 - probs))\n",
    "# probs = xgboost.predict_proba(test_set[features])\n",
    "\n",
    "k = test_kingdoms\n",
    "f, axes = plt.subplots(len(k), 2, figsize=(10, 4 * len(k)))\n",
    "\n",
    "if len(k) == 1:\n",
    "    axes = [axes]\n",
    "\n",
    "axes[0][0].title.set_text(f\"ROC\")\n",
    "axes[0][1].title.set_text(f\"Precision-recall\")\n",
    "\n",
    "for i, ik in enumerate(k):\n",
    "    ts = test_set[test_set[\"kingdom\"] == ik]\n",
    "    probs = xgboost.predict_proba(ts[features])\n",
    "    RocCurveDisplay.from_predictions(ts[\"correct\"], probs[:,1], ax=axes[i][0], **roc_args);\n",
    "    display = PrecisionRecallDisplay.from_predictions(\n",
    "        ts[\"correct\"], probs[:,1], plot_chance_level=True, drop_intermediate=True, ax=axes[i][1], drawstyle=\"default\", **roc_args\n",
    "    )\n",
    "    axes[i][1].set_ylim(0.5, 1)\n",
    "    axes[i][1].legend()\n",
    "plt.show()"
   ]
  },
  {
   "cell_type": "code",
   "execution_count": null,
   "metadata": {},
   "outputs": [],
   "source": [
    "df[df[\"kingdom\"] == \"animalia\"][\"phylum\"].value_counts()"
   ]
  },
  {
   "cell_type": "code",
   "execution_count": null,
   "metadata": {},
   "outputs": [],
   "source": [
    "ts = test_set\n",
    "ts[\"certainty\"] = xgboost.predict_proba(ts[features])[:,1]\n",
    "ts[\"correct\"] = ts[\"correct\"].clip(0,1)\n",
    "ts = ts.sort_values(\"certainty\")\n",
    "\n",
    "pd.DataFrame({\n",
    "    \"Certainty\": ts[\"certainty\"],\n",
    "    \"Precision\": [ts[ts[\"certainty\"] >= c][\"correct\"].mean() for c in ts[\"certainty\"]],\n",
    "    \"Trust rate\": [ts[ts[\"certainty\"] >= c].index.size / ts.index.size for c in ts[\"certainty\"]]\n",
    "}).set_index(\"Certainty\").plot()\n",
    "\n",
    "# Well-calibrated reference line\n",
    "plt.plot([0, 1], [0, 1], linestyle=\"--\", color=\"gray\")\n",
    "\n",
    "plt.xlim(0, 1)\n",
    "plt.ylim(0, 1)\n",
    "plt.show()"
   ]
  },
  {
   "cell_type": "code",
   "execution_count": null,
   "metadata": {},
   "outputs": [],
   "source": [
    "conf_model = (\n",
    "    \"isotonic\"\n",
    "    # \"logistic\"\n",
    ")\n",
    "calibration_set = (\n",
    "    train_set\n",
    "    # test_set\n",
    ")"
   ]
  },
  {
   "cell_type": "markdown",
   "metadata": {},
   "source": [
    "Note - It would be better to calibrate on a subset, then test the calibration on the rest"
   ]
  },
  {
   "cell_type": "code",
   "execution_count": null,
   "metadata": {},
   "outputs": [],
   "source": [
    "from sklearn.linear_model import LogisticRegression\n",
    "from sklearn.isotonic import IsotonicRegression\n",
    "from sklearn.calibration import calibration_curve\n",
    "\n",
    "# Learn confidence function\n",
    "rs = calibration_set.copy()\n",
    "rs[\"certainty\"] = xgboost.predict_proba(rs[features])[:,1]\n",
    "rs[\"correct\"] = rs[\"correct\"].clip(0,1)\n",
    "rs = rs.sort_values(\"certainty\")\n",
    "\n",
    "if conf_model == \"isotonic\":\n",
    "    ir = IsotonicRegression(out_of_bounds=\"clip\").fit(rs[\"certainty\"].to_numpy(), rs[\"correct\"].to_numpy())\n",
    "    calibrate = lambda x: ir.transform(x) \n",
    "elif conf_model == \"logistic\":\n",
    "    lr = LogisticRegression().fit(rs[[\"certainty\"]].to_numpy(), rs[\"correct\"].to_numpy())\n",
    "    calibrate = lambda x: lr.predict_proba(x.reshape(-1, 1) if type(x) == np.ndarray else x.to_numpy().reshape(-1, 1))[:,1]\n",
    "else:\n",
    "    calibrate = lambda x: 0\n",
    "    uhoh\n",
    "\n",
    "# Plot confidence vs. precision\n",
    "ts[\"confidence\"] = calibrate(ts[\"certainty\"])\n",
    "\n",
    "pd.DataFrame({\n",
    "    \"Confidence\": ts[\"confidence\"],\n",
    "    \"Precision\": [ts[ts[\"confidence\"] >= c][\"correct\"].mean() for c in ts[\"confidence\"]],\n",
    "    \"Trust rate\": [ts[ts[\"confidence\"] >= c].index.size / ts.index.size for c in ts[\"confidence\"]]\n",
    "}).set_index(\"Confidence\").plot()\n",
    "\n",
    "# Well-calibrated reference line\n",
    "plt.plot([0, 1], [0, 1], linestyle=\"--\", color=\"gray\")\n",
    "\n",
    "plt.xlim(0, 1.01)\n",
    "plt.ylim(0, 1.01)\n",
    "plt.legend(loc=\"center right\")\n",
    "plt.show()"
   ]
  },
  {
   "cell_type": "code",
   "execution_count": null,
   "metadata": {},
   "outputs": [],
   "source": [
    "calibration_args = {\n",
    "    \"n_bins\": 100,\n",
    "    \"strategy\": (\n",
    "        # \"uniform\"\n",
    "        \"quantile\"\n",
    "    )\n",
    "}"
   ]
  },
  {
   "cell_type": "code",
   "execution_count": null,
   "metadata": {},
   "outputs": [],
   "source": [
    "args = calibration_args | { \"pos_label\": 1, \"y_true\": ts[\"correct\"] }\n",
    "cert_prob_true, cert = calibration_curve(y_prob=ts[\"certainty\"], **args)\n",
    "conf_prob_true, conf = calibration_curve(y_prob=ts[\"confidence\"], **args)\n",
    "\n",
    "print(\"Certainty ECE:\", abs(cert - cert_prob_true).sum() / len(cert))\n",
    "print(\"Confidence ECE:\", abs(conf - conf_prob_true).sum() / len(conf))\n",
    "\n",
    "plt.plot(cert, cert_prob_true, label=\"Accuracy\")\n",
    "plt.plot(cert, calibrate(cert), label=\"Confidence\")\n",
    "plt.xlabel(\"Uncertainty bins\")\n",
    "plt.xlim([0,1.01])\n",
    "plt.ylim([0,1.01])\n",
    "plt.legend()\n",
    "plt.show()"
   ]
  },
  {
   "cell_type": "code",
   "execution_count": null,
   "metadata": {},
   "outputs": [],
   "source": [
    "ts[ts[\"confidence\"] < .4]"
   ]
  },
  {
   "cell_type": "code",
   "execution_count": null,
   "metadata": {},
   "outputs": [],
   "source": [
    "ts[[\"certainty\", \"confidence\"]].hist(bins=50)"
   ]
  },
  {
   "cell_type": "code",
   "execution_count": null,
   "metadata": {},
   "outputs": [],
   "source": [
    "# Tell snakemake we're all done\n",
    "if \"snakemake\" in globals():\n",
    "    with open(snakemake.output[0], \"w\") as f:\n",
    "        f.write(\"\")"
   ]
  },
  {
   "cell_type": "code",
   "execution_count": null,
   "metadata": {},
   "outputs": [],
   "source": [
    "with open(\"all.done\", \"w\") as f:\n",
    "    f.write(\"\")"
   ]
  }
 ],
 "metadata": {
  "kernelspec": {
   "display_name": "Python 3",
   "language": "python",
   "name": "python3"
  },
  "language_info": {
   "codemirror_mode": {
    "name": "ipython",
    "version": 3
   },
   "file_extension": ".py",
   "mimetype": "text/x-python",
   "name": "python",
   "nbconvert_exporter": "python",
   "pygments_lexer": "ipython3",
   "version": "3.10.12"
  },
  "orig_nbformat": 4
 },
 "nbformat": 4,
 "nbformat_minor": 2
}
