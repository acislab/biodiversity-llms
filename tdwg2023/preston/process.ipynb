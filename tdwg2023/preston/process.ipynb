{
 "cells": [
  {
   "cell_type": "markdown",
   "metadata": {},
   "source": [
    "All GBIF backbone versions are available at https://hosted-datasets.gbif.org/datasets/backbone/"
   ]
  },
  {
   "cell_type": "code",
   "execution_count": 11,
   "metadata": {},
   "outputs": [],
   "source": [
    "import pandas as pd"
   ]
  },
  {
   "cell_type": "markdown",
   "metadata": {},
   "source": [
    "See https://api.gbif.org/v1/species/5386/synonyms?limit=50\n",
    "\n",
    "For an ID with rank RANK, the accepted ID seems to be under RANK_key\n",
    "e.g. if ID1 is a synonym of ID2, rank RANK, both should have the same RANK_key that indicates which one is considered \"accepted\""
   ]
  },
  {
   "cell_type": "code",
   "execution_count": 12,
   "metadata": {},
   "outputs": [],
   "source": [
    "year = \"2022\" # \"2017\" # "
   ]
  },
  {
   "cell_type": "code",
   "execution_count": 19,
   "metadata": {},
   "outputs": [
    {
     "data": {
      "text/html": [
       "<div>\n",
       "<style scoped>\n",
       "    .dataframe tbody tr th:only-of-type {\n",
       "        vertical-align: middle;\n",
       "    }\n",
       "\n",
       "    .dataframe tbody tr th {\n",
       "        vertical-align: top;\n",
       "    }\n",
       "\n",
       "    .dataframe thead th {\n",
       "        text-align: right;\n",
       "    }\n",
       "</style>\n",
       "<table border=\"1\" class=\"dataframe\">\n",
       "  <thead>\n",
       "    <tr style=\"text-align: right;\">\n",
       "      <th></th>\n",
       "      <th>id</th>\n",
       "      <th>status</th>\n",
       "      <th>rank</th>\n",
       "      <th>kingdom_key</th>\n",
       "      <th>phylum_key</th>\n",
       "      <th>class_key</th>\n",
       "      <th>order_key</th>\n",
       "      <th>family_key</th>\n",
       "      <th>genus_key</th>\n",
       "      <th>species_key</th>\n",
       "      <th>name_id</th>\n",
       "      <th>scientific_name</th>\n",
       "      <th>canonical_name</th>\n",
       "    </tr>\n",
       "  </thead>\n",
       "  <tbody>\n",
       "    <tr>\n",
       "      <th>0</th>\n",
       "      <td>5184</td>\n",
       "      <td>ACCEPTED</td>\n",
       "      <td>FAMILY</td>\n",
       "      <td>1</td>\n",
       "      <td>43</td>\n",
       "      <td>205</td>\n",
       "      <td>838</td>\n",
       "      <td>5184</td>\n",
       "      <td>\\N</td>\n",
       "      <td>\\N</td>\n",
       "      <td>8028810</td>\n",
       "      <td>Pachycordylidae</td>\n",
       "      <td>Pachycordylidae</td>\n",
       "    </tr>\n",
       "  </tbody>\n",
       "</table>\n",
       "</div>"
      ],
      "text/plain": [
       "     id    status    rank kingdom_key phylum_key class_key order_key  \\\n",
       "0  5184  ACCEPTED  FAMILY           1         43       205       838   \n",
       "\n",
       "  family_key genus_key species_key  name_id  scientific_name   canonical_name  \n",
       "0       5184        \\N          \\N  8028810  Pachycordylidae  Pachycordylidae  "
      ]
     },
     "execution_count": 19,
     "metadata": {},
     "output_type": "execute_result"
    }
   ],
   "source": [
    "path = f\"gbif-backbone-{year}.tsv\"\n",
    "raw = pd.read_csv(open(path, \"r\"), sep=\"\\t\", dtype=str, names=[\n",
    "    \"id\",\n",
    "    \"status\",\n",
    "    \"rank\",\n",
    "    \"kingdom_key\",\n",
    "    \"phylum_key\",\n",
    "    \"class_key\",\n",
    "    \"order_key\",\n",
    "    \"family_key\",\n",
    "    \"genus_key\",\n",
    "    \"species_key\",\n",
    "    \"name_id\",\n",
    "    \"scientific_name\",\n",
    "    \"canonical_name\"\n",
    "])\n",
    "raw.head(1)"
   ]
  },
  {
   "cell_type": "code",
   "execution_count": 6,
   "metadata": {},
   "outputs": [],
   "source": [
    "ranks = [\n",
    "    \"kingdom\",\n",
    "    \"phylum\",\n",
    "    \"class\",\n",
    "    \"order\",\n",
    "    \"family\",\n",
    "    \"genus\",\n",
    "    \"species\"\n",
    "]\n",
    "\n",
    "id_map = raw[[\"id\", \"canonical_name\"]].set_index(\"id\")[\"canonical_name\"].str.lower().to_dict()"
   ]
  },
  {
   "cell_type": "code",
   "execution_count": 17,
   "metadata": {},
   "outputs": [],
   "source": [
    "table = raw[raw[\"rank\"] == \"SPECIES\"][[\"id\"]].copy()\n",
    "for rank in ranks:\n",
    "    key = f\"{rank}_key\"\n",
    "    table[rank] = raw[key].map(lambda x: id_map[x] if x in id_map else \"\")\n",
    "table = table.set_index(\"id\")"
   ]
  },
  {
   "cell_type": "code",
   "execution_count": 18,
   "metadata": {},
   "outputs": [],
   "source": [
    "table.to_csv(f\"gbif-backbone-{year}-dereferenced.tsv\", sep=\"\\t\")"
   ]
  },
  {
   "cell_type": "code",
   "execution_count": 19,
   "metadata": {},
   "outputs": [
    {
     "data": {
      "text/html": [
       "<div>\n",
       "<style scoped>\n",
       "    .dataframe tbody tr th:only-of-type {\n",
       "        vertical-align: middle;\n",
       "    }\n",
       "\n",
       "    .dataframe tbody tr th {\n",
       "        vertical-align: top;\n",
       "    }\n",
       "\n",
       "    .dataframe thead th {\n",
       "        text-align: right;\n",
       "    }\n",
       "</style>\n",
       "<table border=\"1\" class=\"dataframe\">\n",
       "  <thead>\n",
       "    <tr style=\"text-align: right;\">\n",
       "      <th></th>\n",
       "      <th>kingdom</th>\n",
       "      <th>phylum</th>\n",
       "      <th>class</th>\n",
       "      <th>order</th>\n",
       "      <th>family</th>\n",
       "      <th>genus</th>\n",
       "      <th>species</th>\n",
       "    </tr>\n",
       "    <tr>\n",
       "      <th>id</th>\n",
       "      <th></th>\n",
       "      <th></th>\n",
       "      <th></th>\n",
       "      <th></th>\n",
       "      <th></th>\n",
       "      <th></th>\n",
       "      <th></th>\n",
       "    </tr>\n",
       "  </thead>\n",
       "  <tbody>\n",
       "    <tr>\n",
       "      <th>NaN</th>\n",
       "      <td></td>\n",
       "      <td></td>\n",
       "      <td></td>\n",
       "      <td>\\n</td>\n",
       "      <td>\\n</td>\n",
       "      <td>\\n</td>\n",
       "      <td>\\n</td>\n",
       "    </tr>\n",
       "    <tr>\n",
       "      <th>NaN</th>\n",
       "      <td></td>\n",
       "      <td></td>\n",
       "      <td></td>\n",
       "      <td>\\n</td>\n",
       "      <td>\\n</td>\n",
       "      <td>\\n</td>\n",
       "      <td>\\n</td>\n",
       "    </tr>\n",
       "    <tr>\n",
       "      <th>NaN</th>\n",
       "      <td></td>\n",
       "      <td></td>\n",
       "      <td></td>\n",
       "      <td>\\n</td>\n",
       "      <td>\\n</td>\n",
       "      <td>\\n</td>\n",
       "      <td>\\n</td>\n",
       "    </tr>\n",
       "    <tr>\n",
       "      <th>NaN</th>\n",
       "      <td></td>\n",
       "      <td></td>\n",
       "      <td></td>\n",
       "      <td>\\n</td>\n",
       "      <td>\\n</td>\n",
       "      <td>\\n</td>\n",
       "      <td>\\n</td>\n",
       "    </tr>\n",
       "    <tr>\n",
       "      <th>NaN</th>\n",
       "      <td></td>\n",
       "      <td></td>\n",
       "      <td></td>\n",
       "      <td>\\n</td>\n",
       "      <td>\\n</td>\n",
       "      <td>\\n</td>\n",
       "      <td>\\n</td>\n",
       "    </tr>\n",
       "    <tr>\n",
       "      <th>...</th>\n",
       "      <td>...</td>\n",
       "      <td>...</td>\n",
       "      <td>...</td>\n",
       "      <td>...</td>\n",
       "      <td>...</td>\n",
       "      <td>...</td>\n",
       "      <td>...</td>\n",
       "    </tr>\n",
       "    <tr>\n",
       "      <th>NaN</th>\n",
       "      <td></td>\n",
       "      <td></td>\n",
       "      <td></td>\n",
       "      <td></td>\n",
       "      <td></td>\n",
       "      <td>\\n</td>\n",
       "      <td></td>\n",
       "    </tr>\n",
       "    <tr>\n",
       "      <th>NaN</th>\n",
       "      <td></td>\n",
       "      <td></td>\n",
       "      <td></td>\n",
       "      <td></td>\n",
       "      <td></td>\n",
       "      <td>\\n</td>\n",
       "      <td></td>\n",
       "    </tr>\n",
       "    <tr>\n",
       "      <th>NaN</th>\n",
       "      <td></td>\n",
       "      <td></td>\n",
       "      <td></td>\n",
       "      <td></td>\n",
       "      <td>\\n</td>\n",
       "      <td>\\n</td>\n",
       "      <td></td>\n",
       "    </tr>\n",
       "    <tr>\n",
       "      <th>NaN</th>\n",
       "      <td></td>\n",
       "      <td></td>\n",
       "      <td></td>\n",
       "      <td>\\n</td>\n",
       "      <td>\\n</td>\n",
       "      <td>\\n</td>\n",
       "      <td></td>\n",
       "    </tr>\n",
       "    <tr>\n",
       "      <th>NaN</th>\n",
       "      <td></td>\n",
       "      <td></td>\n",
       "      <td></td>\n",
       "      <td>\\n</td>\n",
       "      <td>\\n</td>\n",
       "      <td>\\n</td>\n",
       "      <td></td>\n",
       "    </tr>\n",
       "  </tbody>\n",
       "</table>\n",
       "<p>5887500 rows × 7 columns</p>\n",
       "</div>"
      ],
      "text/plain": [
       "    kingdom phylum class order family genus species\n",
       "id                                                 \n",
       "NaN                         \\n     \\n    \\n      \\n\n",
       "NaN                         \\n     \\n    \\n      \\n\n",
       "NaN                         \\n     \\n    \\n      \\n\n",
       "NaN                         \\n     \\n    \\n      \\n\n",
       "NaN                         \\n     \\n    \\n      \\n\n",
       "..      ...    ...   ...   ...    ...   ...     ...\n",
       "NaN                                      \\n        \n",
       "NaN                                      \\n        \n",
       "NaN                                \\n    \\n        \n",
       "NaN                         \\n     \\n    \\n        \n",
       "NaN                         \\n     \\n    \\n        \n",
       "\n",
       "[5887500 rows x 7 columns]"
      ]
     },
     "execution_count": 19,
     "metadata": {},
     "output_type": "execute_result"
    }
   ],
   "source": [
    "table"
   ]
  },
  {
   "cell_type": "code",
   "execution_count": 37,
   "metadata": {},
   "outputs": [
    {
     "data": {
      "text/plain": [
       "311304"
      ]
     },
     "execution_count": 37,
     "metadata": {},
     "output_type": "execute_result"
    }
   ],
   "source": [
    "len(table[(table[\"kingdom\"] == \"fungi\") * (table[\"rank\"] == \"species\")])"
   ]
  },
  {
   "cell_type": "code",
   "execution_count": 27,
   "metadata": {},
   "outputs": [
    {
     "data": {
      "text/plain": [
       "2306"
      ]
     },
     "execution_count": 27,
     "metadata": {},
     "output_type": "execute_result"
    }
   ],
   "source": [
    "sum(table[table[\"kingdom\"] == \"fungi\"][\"family\"].value_counts() > 0)"
   ]
  },
  {
   "cell_type": "code",
   "execution_count": 15,
   "metadata": {},
   "outputs": [
    {
     "data": {
      "text/plain": [
       "id\n",
       "ACCEPTED               4116297\n",
       "SYNONYM                2656200\n",
       "HOMOTYPIC_SYNONYM       408709\n",
       "DOUBTFUL                302915\n",
       "HETEROTYPIC_SYNONYM     164760\n",
       "PROPARTE_SYNONYM          2973\n",
       "Name: count, dtype: int64"
      ]
     },
     "execution_count": 15,
     "metadata": {},
     "output_type": "execute_result"
    }
   ],
   "source": [
    "raw[\"id\"].value_counts()"
   ]
  },
  {
   "cell_type": "code",
   "execution_count": 17,
   "metadata": {},
   "outputs": [
    {
     "data": {
      "text/plain": [
       "3232642"
      ]
     },
     "execution_count": 17,
     "metadata": {},
     "output_type": "execute_result"
    }
   ],
   "source": [
    "2656200 + 408709 + 164760 + 2973"
   ]
  },
  {
   "cell_type": "code",
   "execution_count": 9,
   "metadata": {},
   "outputs": [
    {
     "data": {
      "text/plain": [
       "0           FAMILY\n",
       "1           FAMILY\n",
       "2           FAMILY\n",
       "3          SPECIES\n",
       "4          SPECIES\n",
       "            ...   \n",
       "7651849    SPECIES\n",
       "7651850    SPECIES\n",
       "7651851    SPECIES\n",
       "7651852    SPECIES\n",
       "7651853    SPECIES\n",
       "Name: rank, Length: 7651854, dtype: object"
      ]
     },
     "execution_count": 9,
     "metadata": {},
     "output_type": "execute_result"
    }
   ],
   "source": [
    "raw[\"rank\"].value_counts()"
   ]
  }
 ],
 "metadata": {
  "kernelspec": {
   "display_name": "Python 3",
   "language": "python",
   "name": "python3"
  },
  "language_info": {
   "codemirror_mode": {
    "name": "ipython",
    "version": 3
   },
   "file_extension": ".py",
   "mimetype": "text/x-python",
   "name": "python",
   "nbconvert_exporter": "python",
   "pygments_lexer": "ipython3",
   "version": "3.10.12"
  },
  "orig_nbformat": 4
 },
 "nbformat": 4,
 "nbformat_minor": 2
}
