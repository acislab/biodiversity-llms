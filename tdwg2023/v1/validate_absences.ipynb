{
 "cells": [
  {
   "cell_type": "code",
   "execution_count": 2,
   "metadata": {},
   "outputs": [],
   "source": [
    "import json\n",
    "import requests as rq\n",
    "import os\n",
    "import time\n",
    "import pandas as pd"
   ]
  },
  {
   "cell_type": "code",
   "execution_count": 75,
   "metadata": {},
   "outputs": [],
   "source": [
    "def make_species_location_query(record):\n",
    "    return {\n",
    "        \"rq\": {\n",
    "            \"kingdom\": str(record.kingdom),\n",
    "            \"genus\": str(record.genus),\n",
    "            \"specificepithet\": str(record.specificepithet),\n",
    "            \"country\": str(record.country),\n",
    "            \"stateprovince\": str(record.stateprovince),\n",
    "            \"county\": str(record.county)\n",
    "            },\n",
    "        \"limit\": 1,\n",
    "        \"offset\": 0\n",
    "    }"
   ]
  },
  {
   "cell_type": "code",
   "execution_count": 17,
   "metadata": {},
   "outputs": [],
   "source": [
    "presences = pd.read_csv(open(\"processed/t1-1-presence.tsv\"), sep=\"\\t\")"
   ]
  },
  {
   "cell_type": "code",
   "execution_count": 5,
   "metadata": {},
   "outputs": [],
   "source": [
    "absences = pd.read_csv(open(\"processed/t1-1-absence.tsv\"), sep=\"\\t\")"
   ]
  },
  {
   "cell_type": "code",
   "execution_count": 6,
   "metadata": {},
   "outputs": [
    {
     "data": {
      "text/plain": [
       "kingdom                   animalia\n",
       "phylum                    annelida\n",
       "family                  nereididae\n",
       "genus                       Nereis\n",
       "specificepithet          vexillosa\n",
       "country              United States\n",
       "stateprovince             Michigan\n",
       "county             Keweenaw County\n",
       "Name: 0, dtype: object"
      ]
     },
     "execution_count": 6,
     "metadata": {},
     "output_type": "execute_result"
    }
   ],
   "source": [
    "absences.iloc[0]"
   ]
  },
  {
   "cell_type": "markdown",
   "metadata": {},
   "source": [
    "Go through presence and absence records and check which ones are matched with records in iDigBio. Hopefully all presences match, and a minimal number of absences match"
   ]
  },
  {
   "cell_type": "code",
   "execution_count": 49,
   "metadata": {},
   "outputs": [
    {
     "data": {
      "text/plain": [
       "{'itemCount': 0,\n",
       " 'lastModified': '1970-01-01T00:00:00.000Z',\n",
       " 'items': [],\n",
       " 'attribution': []}"
      ]
     },
     "execution_count": 49,
     "metadata": {},
     "output_type": "execute_result"
    }
   ],
   "source": [
    "record = absences.iloc[0]\n",
    "query = make_species_location_query(record)\n",
    "response = rq.post(\"http://search.idigbio.org/v2/search/records/\", json=query)\n",
    "response.json()"
   ]
  },
  {
   "cell_type": "code",
   "execution_count": 69,
   "metadata": {},
   "outputs": [
    {
     "data": {
      "text/plain": [
       "{'itemCount': 0,\n",
       " 'lastModified': '1970-01-01T00:00:00.000Z',\n",
       " 'items': [],\n",
       " 'attribution': []}"
      ]
     },
     "execution_count": 69,
     "metadata": {},
     "output_type": "execute_result"
    }
   ],
   "source": [
    "response.json()"
   ]
  },
  {
   "cell_type": "code",
   "execution_count": 94,
   "metadata": {},
   "outputs": [
    {
     "name": "stdout",
     "output_type": "stream",
     "text": [
      "1, 2 / 10004\r"
     ]
    },
    {
     "name": "stdout",
     "output_type": "stream",
     "text": [
      "Records missing location: 9178/10004 (91.74%)\n"
     ]
    }
   ],
   "source": [
    "n = len(absences)\n",
    "responses = {}\n",
    "for record in absences.itertuples():\n",
    "    query = make_species_location_query(record)\n",
    "    response = rq.post(\"http://search.idigbio.org/v2/search/records/\", json=query)\n",
    "    responses[record.Index] = response.json()[\"itemCount\"]\n",
    "    print(f\"{record.Index}, {len(responses)} / {n}\", end=\"\\r\", flush=True)\n",
    "\n",
    "absence_matches = pd.Series(responses)\n",
    "m = sum(absence_matches == 0)\n",
    "print(f\"Records missing location: {m}/{n} ({100*m/n:2.2f}%)\")"
   ]
  },
  {
   "cell_type": "code",
   "execution_count": 99,
   "metadata": {},
   "outputs": [],
   "source": [
    "absences[\"valid\"] = absence_matches == 0\n",
    "absences[\"valid\"].to_csv(open(\"processed/t1-1-absence-valid.tsv\", \"w\"), sep=\"\\t\")"
   ]
  },
  {
   "cell_type": "code",
   "execution_count": 91,
   "metadata": {},
   "outputs": [
    {
     "name": "stdout",
     "output_type": "stream",
     "text": [
      "Records missing location: 24/10004 (0.24%)\n"
     ]
    }
   ],
   "source": [
    "n = len(absences)\n",
    "responses = {}\n",
    "for record in presences.itertuples():\n",
    "    query = make_species_location_query(record)\n",
    "    response = rq.post(\"http://search.idigbio.org/v2/search/records/\", json=query)\n",
    "    responses[record.Index] = response.json()[\"itemCount\"]\n",
    "    print(f\"{record.Index}, {len(responses)} / {n}\", end=\"\\r\", flush=True)\n",
    "\n",
    "presence_matches = pd.Series(responses)\n",
    "m = sum(presence_matches == 0)\n",
    "print(f\"Records missing location: {m}/{n} ({100*m/n:2.2f}%)\")"
   ]
  },
  {
   "cell_type": "code",
   "execution_count": 93,
   "metadata": {},
   "outputs": [
    {
     "data": {
      "text/plain": [
       "0    21\n",
       "1    72\n",
       "2    42\n",
       "3     4\n",
       "4     6\n",
       "dtype: int64"
      ]
     },
     "execution_count": 93,
     "metadata": {},
     "output_type": "execute_result"
    }
   ],
   "source": [
    "presence_matches.head()"
   ]
  }
 ],
 "metadata": {
  "kernelspec": {
   "display_name": "Python 3",
   "language": "python",
   "name": "python3"
  },
  "language_info": {
   "codemirror_mode": {
    "name": "ipython",
    "version": 3
   },
   "file_extension": ".py",
   "mimetype": "text/x-python",
   "name": "python",
   "nbconvert_exporter": "python",
   "pygments_lexer": "ipython3",
   "version": "3.10.12"
  },
  "orig_nbformat": 4
 },
 "nbformat": 4,
 "nbformat_minor": 2
}
