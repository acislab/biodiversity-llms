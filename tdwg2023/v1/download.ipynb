{
 "cells": [
  {
   "cell_type": "code",
   "execution_count": 1,
   "metadata": {},
   "outputs": [],
   "source": [
    "import json\n",
    "import requests as rq\n",
    "import os\n",
    "import time"
   ]
  },
  {
   "cell_type": "code",
   "execution_count": 2,
   "metadata": {},
   "outputs": [],
   "source": [
    "base_dir = \"./\"\n",
    "raw_dir = os.path.join(base_dir, \"raw\")\n",
    "processed_dir = os.path.join(base_dir, \"processed\")\n",
    "results_dir = os.path.join(base_dir, \"results\")\n",
    "\n",
    "for d in (base_dir, raw_dir, processed_dir, results_dir):\n",
    "    if not os.path.exists(d):\n",
    "        os.mkdir(d)"
   ]
  },
  {
   "cell_type": "code",
   "execution_count": 2,
   "metadata": {},
   "outputs": [
    {
     "data": {
      "text/plain": [
       "dict_keys(['animalia', 'plantae', 'fungi'])"
      ]
     },
     "execution_count": 2,
     "metadata": {},
     "output_type": "execute_result"
    }
   ],
   "source": [
    "kingdoms_phyla_families = rq.get(f\"\"\"https://search.idigbio.org/v2/summary/top/records/?top_fields={json.dumps([\"kingdom\", \"phylum\", \"family\"])}\"\"\").json()[\"kingdom\"]\n",
    "animals_plants_fungi = { k: v for k, v in kingdoms_phyla_families.items() if k in (\"animalia\", \"plantae\", \"fungi\")}\n",
    "animals_plants_fungi.keys()"
   ]
  },
  {
   "cell_type": "code",
   "execution_count": 14,
   "metadata": {},
   "outputs": [
    {
     "data": {
      "text/plain": [
       "dict_keys(['arthropoda', 'chordata', 'mollusca', 'annelida', 'cnidaria', 'echinodermata', 'brachiopoda', 'porifera', 'bryozoa', 'arthropoda von siebold, 1848'])"
      ]
     },
     "execution_count": 14,
     "metadata": {},
     "output_type": "execute_result"
    }
   ],
   "source": [
    "animals_plants_fungi[\"animalia\"][\"phylum\"].keys()"
   ]
  },
  {
   "cell_type": "code",
   "execution_count": 3,
   "metadata": {},
   "outputs": [],
   "source": [
    "def kpfc_gen(max_small_groups):\n",
    "    trouble_makers = {\n",
    "        # Phyla\n",
    "        \"arthropoda von siebold, 1848\",\n",
    "        \"flowering plants\",\n",
    "        \"lichens\",\n",
    "        \"amoebozoa\",\n",
    "        \"fungi incertae sedis\",\n",
    "        \"fungi\",\n",
    "        \"glomeromycota\",\n",
    "\n",
    "        # Families\n",
    "        \"family unknown\"\n",
    "    }\n",
    "\n",
    "    for kingdom, k_data in animals_plants_fungi.items():\n",
    "        for phylum, p_data in k_data[\"phylum\"].items():\n",
    "            if phylum not in trouble_makers:\n",
    "                for family, f_data in list(p_data[\"family\"].items())[:max_small_groups]:\n",
    "                    if family not in trouble_makers:\n",
    "                        num_records = f_data[\"itemCount\"]\n",
    "                        yield {\"kingdom\": kingdom, \"phylum\": phylum, \"family\": family, \"count\": num_records}\n",
    "\n",
    "# next(kpfc_gen(max_small_groups=1))"
   ]
  },
  {
   "cell_type": "code",
   "execution_count": 7,
   "metadata": {},
   "outputs": [
    {
     "name": "stdout",
     "output_type": "stream",
     "text": [
      "0 {'kingdom': 'animalia', 'phylum': 'arthropoda', 'family': 'formicidae', 'count': 1477824}\n",
      "1 {'kingdom': 'animalia', 'phylum': 'arthropoda', 'family': 'apidae', 'count': 1338885}\n",
      "2 {'kingdom': 'animalia', 'phylum': 'arthropoda', 'family': 'carabidae', 'count': 813649}\n",
      "3 {'kingdom': 'animalia', 'phylum': 'chordata', 'family': 'cricetidae', 'count': 1285131}\n",
      "4 {'kingdom': 'animalia', 'phylum': 'chordata', 'family': 'plethodontidae', 'count': 688542}\n",
      "5 {'kingdom': 'animalia', 'phylum': 'chordata', 'family': 'cyprinidae', 'count': 679658}\n",
      "6 {'kingdom': 'animalia', 'phylum': 'mollusca', 'family': 'unionidae', 'count': 299394}\n",
      "7 {'kingdom': 'animalia', 'phylum': 'mollusca', 'family': 'muricidae', 'count': 217286}\n",
      "8 {'kingdom': 'animalia', 'phylum': 'mollusca', 'family': 'veneridae', 'count': 182111}\n",
      "9 {'kingdom': 'animalia', 'phylum': 'annelida', 'family': 'spionidae', 'count': 41428}\n",
      "10 {'kingdom': 'animalia', 'phylum': 'annelida', 'family': 'syllidae', 'count': 38088}\n",
      "11 {'kingdom': 'animalia', 'phylum': 'annelida', 'family': 'nereididae', 'count': 32568}\n",
      "12 {'kingdom': 'animalia', 'phylum': 'cnidaria', 'family': 'acroporidae', 'count': 50153}\n",
      "13 {'kingdom': 'animalia', 'phylum': 'cnidaria', 'family': 'faviidae', 'count': 28369}\n",
      "14 {'kingdom': 'animalia', 'phylum': 'cnidaria', 'family': 'plexauridae', 'count': 17278}\n",
      "15 {'kingdom': 'animalia', 'phylum': 'echinodermata', 'family': 'amphiuridae', 'count': 19692}\n",
      "16 {'kingdom': 'animalia', 'phylum': 'echinodermata', 'family': 'ophiuridae', 'count': 19257}\n",
      "17 {'kingdom': 'animalia', 'phylum': 'echinodermata', 'family': 'holothuriidae', 'count': 17866}\n",
      "18 {'kingdom': 'animalia', 'phylum': 'brachiopoda', 'family': 'spirigerellidae', 'count': 33041}\n",
      "19 {'kingdom': 'animalia', 'phylum': 'brachiopoda', 'family': 'spiriferidae', 'count': 26252}\n",
      "20 {'kingdom': 'animalia', 'phylum': 'brachiopoda', 'family': 'rugosochonetidae', 'count': 25551}\n",
      "21 {'kingdom': 'animalia', 'phylum': 'porifera', 'family': 'chalinidae', 'count': 12370}\n",
      "22 {'kingdom': 'animalia', 'phylum': 'porifera', 'family': 'halichondriidae', 'count': 10864}\n",
      "23 {'kingdom': 'animalia', 'phylum': 'porifera', 'family': 'microcionidae', 'count': 10091}\n",
      "24 {'kingdom': 'animalia', 'phylum': 'bryozoa', 'family': 'fenestellidae', 'count': 17493}\n",
      "25 {'kingdom': 'animalia', 'phylum': 'bryozoa', 'family': 'rhabdomesidae', 'count': 14698}\n",
      "26 {'kingdom': 'animalia', 'phylum': 'bryozoa', 'family': 'smittinidae', 'count': 6881}\n",
      "27 {'kingdom': 'plantae', 'phylum': 'tracheophyta', 'family': 'asteraceae', 'count': 4576800}\n",
      "28 {'kingdom': 'plantae', 'phylum': 'tracheophyta', 'family': 'poaceae', 'count': 3278475}\n",
      "29 {'kingdom': 'plantae', 'phylum': 'tracheophyta', 'family': 'fabaceae', 'count': 2852806}\n",
      "30 {'kingdom': 'plantae', 'phylum': 'bryophyta', 'family': 'dicranaceae', 'count': 308444}\n",
      "31 {'kingdom': 'plantae', 'phylum': 'bryophyta', 'family': 'sphagnaceae', 'count': 293778}\n",
      "32 {'kingdom': 'plantae', 'phylum': 'bryophyta', 'family': 'pottiaceae', 'count': 238117}\n",
      "33 {'kingdom': 'plantae', 'phylum': 'magnoliophyta', 'family': 'asteraceae', 'count': 294824}\n",
      "34 {'kingdom': 'plantae', 'phylum': 'magnoliophyta', 'family': 'poaceae', 'count': 275923}\n",
      "35 {'kingdom': 'plantae', 'phylum': 'magnoliophyta', 'family': 'fabaceae', 'count': 211216}\n",
      "36 {'kingdom': 'plantae', 'phylum': 'marchantiophyta', 'family': 'lejeuneaceae', 'count': 96910}\n",
      "37 {'kingdom': 'plantae', 'phylum': 'marchantiophyta', 'family': 'scapaniaceae', 'count': 95309}\n",
      "38 {'kingdom': 'plantae', 'phylum': 'marchantiophyta', 'family': 'frullaniaceae', 'count': 64061}\n",
      "39 {'kingdom': 'plantae', 'phylum': 'rhodophyta', 'family': 'rhodomelaceae', 'count': 147323}\n",
      "40 {'kingdom': 'plantae', 'phylum': 'rhodophyta', 'family': 'ceramiaceae', 'count': 55125}\n",
      "41 {'kingdom': 'plantae', 'phylum': 'rhodophyta', 'family': 'corallinaceae', 'count': 41585}\n",
      "42 {'kingdom': 'plantae', 'phylum': 'chlorophyta', 'family': 'cladophoraceae', 'count': 65117}\n",
      "43 {'kingdom': 'plantae', 'phylum': 'chlorophyta', 'family': 'ulvaceae', 'count': 47643}\n",
      "44 {'kingdom': 'plantae', 'phylum': 'chlorophyta', 'family': 'caulerpaceae', 'count': 32787}\n",
      "45 {'kingdom': 'plantae', 'phylum': 'charophyta', 'family': 'characeae', 'count': 63185}\n",
      "46 {'kingdom': 'plantae', 'phylum': 'charophyta', 'family': 'fabaceae', 'count': 35010}\n",
      "47 {'kingdom': 'plantae', 'phylum': 'charophyta', 'family': 'poaceae', 'count': 19277}\n",
      "48 {'kingdom': 'plantae', 'phylum': 'spermatophyta', 'family': 'asteraceae', 'count': 24968}\n",
      "49 {'kingdom': 'plantae', 'phylum': 'spermatophyta', 'family': 'fabaceae', 'count': 21504}\n",
      "50 {'kingdom': 'plantae', 'phylum': 'spermatophyta', 'family': 'poaceae', 'count': 15363}\n",
      "51 {'kingdom': 'plantae', 'phylum': 'dicotyledon', 'family': 'fabaceae', 'count': 15037}\n",
      "52 {'kingdom': 'plantae', 'phylum': 'dicotyledon', 'family': 'asteraceae', 'count': 10927}\n",
      "53 {'kingdom': 'plantae', 'phylum': 'dicotyledon', 'family': 'myrtaceae', 'count': 10361}\n",
      "54 {'kingdom': 'fungi', 'phylum': 'ascomycota', 'family': 'parmeliaceae', 'count': 707581}\n",
      "55 {'kingdom': 'fungi', 'phylum': 'ascomycota', 'family': 'cladoniaceae', 'count': 398545}\n",
      "56 {'kingdom': 'fungi', 'phylum': 'ascomycota', 'family': 'physciaceae', 'count': 265036}\n",
      "57 {'kingdom': 'fungi', 'phylum': 'basidiomycota', 'family': 'pucciniaceae', 'count': 459570}\n",
      "58 {'kingdom': 'fungi', 'phylum': 'basidiomycota', 'family': 'polyporaceae', 'count': 229348}\n",
      "59 {'kingdom': 'fungi', 'phylum': 'basidiomycota', 'family': 'agaricaceae', 'count': 128555}\n",
      "60 {'kingdom': 'fungi', 'phylum': 'chytridiomycota', 'family': 'synchytriaceae', 'count': 5524}\n",
      "61 {'kingdom': 'fungi', 'phylum': 'chytridiomycota', 'family': 'physodermataceae', 'count': 2606}\n",
      "62 {'kingdom': 'fungi', 'phylum': 'chytridiomycota', 'family': 'cladochytriaceae', 'count': 332}\n",
      "63 {'kingdom': 'fungi', 'phylum': 'zygomycota', 'family': 'mucoraceae', 'count': 1342}\n",
      "64 {'kingdom': 'fungi', 'phylum': 'zygomycota', 'family': 'legeriomycetaceae', 'count': 1006}\n",
      "65 {'kingdom': 'fungi', 'phylum': 'zygomycota', 'family': 'rhizopodaceae', 'count': 826}\n",
      "66 {'kingdom': 'fungi', 'phylum': 'cyanobacteria', 'family': 'scytonemataceae', 'count': 7625}\n"
     ]
    }
   ],
   "source": [
    "for i, x in enumerate(kpfc_gen(max_small_groups=3)):\n",
    "    print(i, x)"
   ]
  },
  {
   "cell_type": "code",
   "execution_count": 73,
   "metadata": {},
   "outputs": [],
   "source": [
    "def make_family_records_query(kingdom: str, phylum: str, family: str):\n",
    "    return {\n",
    "        \"rq\": {\n",
    "            \"kingdom\": kingdom,\n",
    "            \"phylum\": phylum,\n",
    "            \"family\": family,\n",
    "            \"country\": {\n",
    "                \"type\": \"exists\"\n",
    "            },\n",
    "            \"stateprovince\": {\n",
    "                \"type\": \"exists\"\n",
    "            },\n",
    "            \"county\": {\n",
    "                \"type\": \"exists\"\n",
    "            },\n",
    "            \"genus\": {\n",
    "                \"type\": \"exists\"\n",
    "            },\n",
    "            \"specificepithet\": {\n",
    "                \"type\": \"exists\"\n",
    "            },\n",
    "            \"uuid\": {\n",
    "                \"type\": \"range\",\n",
    "                \"gt\": \"00000000-0000-0000-0000-000000000000\",\n",
    "                \"lte\": \"ffffffff-ffff-ffff-ffff-ffffffffffff\"\n",
    "                }\n",
    "            },\n",
    "        \"sort\": [\n",
    "            {\n",
    "                \"uuid\": \"asc\"\n",
    "                }\n",
    "            ],\n",
    "        \"limit\": 5000,\n",
    "        \"offset\": 0\n",
    "    }"
   ]
  },
  {
   "cell_type": "code",
   "execution_count": 74,
   "metadata": {},
   "outputs": [],
   "source": [
    "def process_record(record: dict) -> str:\n",
    "    return json.dumps({\n",
    "        \"indexTerms\": record[\"indexTerms\"],\n",
    "        \"data\": record[\"data\"]\n",
    "    })"
   ]
  },
  {
   "cell_type": "code",
   "execution_count": 80,
   "metadata": {},
   "outputs": [],
   "source": [
    "def download_records(query, out_dir, file_prefix, numRecords):\n",
    "    inc = 1\n",
    "    while True:\n",
    "        query[\"limit\"] = min(query[\"limit\"], numRecords)\n",
    "        response = rq.post(\"http://search.idigbio.org/v2/search/records/\", json=query)\n",
    "        if response.status_code != 200:\n",
    "            time.sleep(2)\n",
    "            continue\n",
    "        else:\n",
    "            with open(os.path.join(out_dir, f\"{file_prefix}-{str(inc).zfill(3)}.jsonl\"), \"w\") as outfile:\n",
    "                try:\n",
    "                    response_data = response.json(strict=False)\n",
    "                    records = response_data[\"items\"]\n",
    "                    numRecords -= len(records)\n",
    "                    for record in records:\n",
    "                        outfile.write(f\"{process_record(record)}\\n\")\n",
    "                except ValueError:\n",
    "                    continue\n",
    "\n",
    "            inc = inc + 1\n",
    "\n",
    "            # If this is the last page of records\n",
    "            if response_data[\"itemCount\"] <= query[\"limit\"] or numRecords <= 0:\n",
    "                break;\n",
    "            else:\n",
    "                # Start with next block of records\n",
    "                size = len(response_data[\"items\"])\n",
    "                query[\"rq\"][\"uuid\"][\"gt\"] = response_data[\"items\"][size - 1][\"uuid\"]\n",
    "        break"
   ]
  },
  {
   "cell_type": "code",
   "execution_count": 81,
   "metadata": {},
   "outputs": [
    {
     "name": "stdout",
     "output_type": "stream",
     "text": [
      "1/71\t animalia arthropoda formicidae\n",
      "2/71\t animalia arthropoda apidae\n",
      "3/71\t animalia arthropoda carabidae\n",
      "4/71\t animalia chordata cricetidae\n",
      "5/71\t animalia chordata plethodontidae\n",
      "6/71\t animalia chordata cyprinidae\n",
      "7/71\t animalia mollusca unionidae\n",
      "8/71\t animalia mollusca muricidae\n",
      "9/71\t animalia mollusca veneridae\n",
      "10/71\t animalia annelida spionidae\n",
      "11/71\t animalia annelida syllidae\n",
      "12/71\t animalia annelida nereididae\n",
      "13/71\t animalia cnidaria acroporidae\n",
      "14/71\t animalia cnidaria faviidae\n",
      "15/71\t animalia cnidaria plexauridae\n",
      "16/71\t animalia echinodermata amphiuridae\n",
      "17/71\t animalia echinodermata ophiuridae\n",
      "18/71\t animalia echinodermata holothuriidae\n",
      "19/71\t animalia brachiopoda spirigerellidae\n",
      "20/71\t animalia brachiopoda spiriferidae\n",
      "21/71\t animalia brachiopoda rugosochonetidae\n",
      "22/71\t animalia porifera chalinidae\n",
      "23/71\t animalia porifera halichondriidae\n",
      "24/71\t animalia porifera microcionidae\n",
      "25/71\t animalia bryozoa fenestellidae\n",
      "26/71\t animalia bryozoa rhabdomesidae\n",
      "27/71\t animalia bryozoa smittinidae\n",
      "28/71\t plantae tracheophyta asteraceae\n",
      "29/71\t plantae tracheophyta poaceae\n",
      "30/71\t plantae tracheophyta fabaceae\n",
      "31/71\t plantae bryophyta dicranaceae\n",
      "32/71\t plantae bryophyta sphagnaceae\n",
      "33/71\t plantae bryophyta pottiaceae\n",
      "34/71\t plantae magnoliophyta asteraceae\n",
      "35/71\t plantae magnoliophyta poaceae\n",
      "36/71\t plantae magnoliophyta fabaceae\n",
      "37/71\t plantae marchantiophyta lejeuneaceae\n",
      "38/71\t plantae marchantiophyta scapaniaceae\n",
      "39/71\t plantae marchantiophyta frullaniaceae\n",
      "40/71\t plantae rhodophyta rhodomelaceae\n",
      "41/71\t plantae rhodophyta ceramiaceae\n",
      "42/71\t plantae rhodophyta corallinaceae\n",
      "43/71\t plantae spermatophyta asteraceae\n",
      "44/71\t plantae spermatophyta fabaceae\n",
      "45/71\t plantae spermatophyta orchidaceae\n",
      "46/71\t plantae chlorophyta cladophoraceae\n",
      "47/71\t plantae chlorophyta ulvaceae\n",
      "48/71\t plantae chlorophyta caulerpaceae\n",
      "49/71\t plantae charophyta characeae\n",
      "50/71\t plantae charophyta fabaceae\n",
      "51/71\t plantae charophyta poaceae\n",
      "52/71\t plantae dicotyledon fabaceae\n",
      "53/71\t plantae dicotyledon asteraceae\n",
      "54/71\t plantae dicotyledon myrtaceae\n",
      "55/71\t fungi ascomycota parmeliaceae\n",
      "56/71\t fungi ascomycota cladoniaceae\n",
      "57/71\t fungi ascomycota physciaceae\n",
      "58/71\t fungi basidiomycota pucciniaceae\n",
      "59/71\t fungi basidiomycota polyporaceae\n",
      "60/71\t fungi basidiomycota agaricaceae\n",
      "61/71\t fungi chytridiomycota synchytriaceae\n",
      "62/71\t fungi chytridiomycota physodermataceae\n",
      "63/71\t fungi chytridiomycota cladochytriaceae\n",
      "64/71\t fungi zygomycota mucoraceae\n",
      "65/71\t fungi zygomycota legeriomycetaceae\n",
      "66/71\t fungi zygomycota rhizopodaceae\n",
      "67/71\t fungi cyanobacteria scytonemataceae\n",
      "68/71\t fungi fungi family unknown\n",
      "69/71\t fungi glomeromycota glomeraceae\n",
      "70/71\t fungi glomeromycota acaulosporaceae\n",
      "71/71\t fungi glomeromycota gigasporaceae\n"
     ]
    }
   ],
   "source": [
    "# Kingdom, phylum, family counts, max 3 families per phylum\n",
    "kpfcs = [x for x in kpfc_gen(max_small_groups=3)]\n",
    "\n",
    "records_per_family = 1000\n",
    "\n",
    "# TODO: print request URLs to file\n",
    "n = len(kpfcs)\n",
    "for i, kpfc in enumerate(kpfcs):\n",
    "     kingdom, phylum, family, familyCount = kpfc.values()\n",
    "     query = make_family_records_query(kingdom, phylum, family)\n",
    "     print(f\"{i+1}/{n}\\t\", kingdom, phylum, family)\n",
    "     download_records(query, raw_dir, f\"{kingdom}-{phylum}-{family}\", records_per_family)"
   ]
  },
  {
   "cell_type": "code",
   "execution_count": 4,
   "metadata": {},
   "outputs": [],
   "source": [
    "with open(os.path.join(processed_dir, \"taxon-counts.tsv\"), \"w\") as f:\n",
    "    f.write(\"\\t\".join((\"kingdom\", \"phylum\", \"family\", \"kingdomCount\", \"phylumCount\", \"familyCount\")) + \"\\n\")\n",
    "    for kingdom, kdata in animals_plants_fungi.items():\n",
    "        for phylum, pdata in kdata[\"phylum\"].items():\n",
    "            for family, fdata in pdata[\"family\"].items():\n",
    "                f.write(f\"\"\"{kingdom}\\t{phylum}\\t{family}\\t{kdata[\"itemCount\"]}\\t{pdata[\"itemCount\"]}\\t{fdata[\"itemCount\"]}\\n\"\"\")"
   ]
  }
 ],
 "metadata": {
  "kernelspec": {
   "display_name": "Python 3",
   "language": "python",
   "name": "python3"
  },
  "language_info": {
   "codemirror_mode": {
    "name": "ipython",
    "version": 3
   },
   "file_extension": ".py",
   "mimetype": "text/x-python",
   "name": "python",
   "nbconvert_exporter": "python",
   "pygments_lexer": "ipython3",
   "version": "3.10.12"
  },
  "orig_nbformat": 4
 },
 "nbformat": 4,
 "nbformat_minor": 2
}
