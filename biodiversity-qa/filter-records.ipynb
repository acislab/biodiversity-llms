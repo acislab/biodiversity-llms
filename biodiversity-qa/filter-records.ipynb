{
 "cells": [
  {
   "cell_type": "code",
   "execution_count": 1,
   "metadata": {},
   "outputs": [],
   "source": [
    "import pandas as pd"
   ]
  },
  {
   "cell_type": "code",
   "execution_count": 2,
   "metadata": {},
   "outputs": [],
   "source": [
    "OUT_DIR = \"processed2\"\n",
    "df = pd.read_csv(open(f\"{OUT_DIR}/presence-unfiltered.tsv\", \"r\"), sep=\"\\t\").dropna()\n",
    "\n",
    "df = df[~(df == \"[Not Stated]\").any(axis=1)]\n",
    "df = df.applymap(lambda x: str(x).strip(\"[]\").lower())\n",
    "\n",
    "fields = [\"genus\", \"country\", \"stateprovince\", \"county\"]\n",
    "df[fields] = df[fields].applymap(lambda x: x.title())"
   ]
  },
  {
   "cell_type": "code",
   "execution_count": 3,
   "metadata": {},
   "outputs": [],
   "source": [
    "df.groupby([\"kingdom\", \"family\"]).head(300).to_csv(f\"{OUT_DIR}/presence.tsv\", sep=\"\\t\", index=None)"
   ]
  },
  {
   "cell_type": "code",
   "execution_count": 4,
   "metadata": {},
   "outputs": [
    {
     "data": {
      "text/plain": [
       "300    43\n",
       "214     2\n",
       "87      1\n",
       "163     1\n",
       "234     1\n",
       "172     1\n",
       "105     1\n",
       "132     1\n",
       "109     1\n",
       "185     1\n",
       "203     1\n",
       "177     1\n",
       "135     1\n",
       "211     1\n",
       "61      1\n",
       "21      1\n",
       "216     1\n",
       "200     1\n",
       "222     1\n",
       "Name: count, dtype: int64"
      ]
     },
     "execution_count": 4,
     "metadata": {},
     "output_type": "execute_result"
    }
   ],
   "source": [
    "df.groupby([\"kingdom\", \"family\"]).head(300).groupby(\"family\").size().value_counts()"
   ]
  }
 ],
 "metadata": {
  "kernelspec": {
   "display_name": "Python 3",
   "language": "python",
   "name": "python3"
  },
  "language_info": {
   "codemirror_mode": {
    "name": "ipython",
    "version": 3
   },
   "file_extension": ".py",
   "mimetype": "text/x-python",
   "name": "python",
   "nbconvert_exporter": "python",
   "pygments_lexer": "ipython3",
   "version": "3.10.12"
  },
  "orig_nbformat": 4
 },
 "nbformat": 4,
 "nbformat_minor": 2
}
