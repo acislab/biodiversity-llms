{
 "cells": [
  {
   "cell_type": "markdown",
   "metadata": {},
   "source": [
    "# Process and grade LLM responses"
   ]
  },
  {
   "cell_type": "code",
   "execution_count": 191,
   "metadata": {},
   "outputs": [],
   "source": [
    "import os\n",
    "import matplotlib.pyplot as plt\n",
    "import pandas as pd\n",
    "from collections import Counter\n",
    "from typing import NamedTuple"
   ]
  },
  {
   "cell_type": "code",
   "execution_count": 192,
   "metadata": {},
   "outputs": [],
   "source": [
    "ROOT = os.path.expanduser(\"~/biodiversity-llms\")\n",
    "TAXONOMY_TESTSET_SCORES = ROOT + \"/tdwg2023/taxonomy/results/kpfg_scores.tsv\"\n",
    "TAXON_COUNTS = ROOT + \"/tdwg2023/taxonomy/results/taxon-counts.tsv\""
   ]
  },
  {
   "cell_type": "code",
   "execution_count": 193,
   "metadata": {},
   "outputs": [
    {
     "name": "stdout",
     "output_type": "stream",
     "text": [
      "Job parameters:\n",
      "- Responses to analyze: ../../results/gpt-4-1106-preview/all-shuffled.tsv\n",
      "- Query phrasings (count: 7):\n",
      "    - \"Does {genus} {specificepithet} naturally occur in {county}, {stateprovince}, {country}?\"\n",
      "    - \"Can species {genus} {specificepithet} be found in {county}, {stateprovince}, {country}?\"\n",
      "    - \"Is it possible to encounter species {genus} {specificepithet} in {county}, {stateprovince}, {country}?\"\n",
      "    - \"Is there a presence of species {genus} {specificepithet} within {county}, {stateprovince}, {country}?\"\n",
      "    - \"Does {county}, {stateprovince}, {country} harbor species {genus} {specificepithet}?\"\n",
      "    - \"Is species {genus} {specificepithet} present in {county}, {stateprovince}, {country}?\"\n",
      "    - \"Can one observe species {genus} {specificepithet} in {county}, {stateprovince}, {country}?\"\n",
      "- Query fields:\n",
      "    - \"kingdom\"\n",
      "    - \"phylum\"\n",
      "    - \"family\"\n",
      "    - \"genus\"\n",
      "    - \"specificepithet\"\n",
      "    - \"country\"\n",
      "    - \"stateprovince\"\n",
      "    - \"county\"\n"
     ]
    }
   ],
   "source": [
    "class Files(NamedTuple):\n",
    "    responses: str\n",
    "\n",
    "class Env(NamedTuple):\n",
    "    files: Files\n",
    "    num_phrasings: int\n",
    "    phrasings: list[str]\n",
    "    query_fields: list[str]\n",
    "\n",
    "if \"snakemake\" in globals():\n",
    "    env = Env(\n",
    "        files=snakemake.input,\n",
    "        num_phrasings=len(snakemake.params.phrasings),\n",
    "        phrasings=snakemake.params.phrasings,\n",
    "        query_fields=snakemake.params.query_fields\n",
    "    )\n",
    "else: # Fill in parameters manually for testing outside of snakemake\n",
    "    env = Env(\n",
    "        files = Files(\n",
    "            responses=\"../../results/gpt-4-1106-preview/all-shuffled.tsv\"\n",
    "        ),\n",
    "        num_phrasings=7,\n",
    "        phrasings=[\n",
    "            \"Does {genus} {specificepithet} naturally occur in {county}, {stateprovince}, {country}?\",\n",
    "            \"Can species {genus} {specificepithet} be found in {county}, {stateprovince}, {country}?\",\n",
    "            \"Is it possible to encounter species {genus} {specificepithet} in {county}, {stateprovince}, {country}?\",\n",
    "            \"Is there a presence of species {genus} {specificepithet} within {county}, {stateprovince}, {country}?\",\n",
    "            \"Does {county}, {stateprovince}, {country} harbor species {genus} {specificepithet}?\",\n",
    "            \"Is species {genus} {specificepithet} present in {county}, {stateprovince}, {country}?\",\n",
    "            \"Can one observe species {genus} {specificepithet} in {county}, {stateprovince}, {country}?\"\n",
    "        ],\n",
    "        query_fields=[\n",
    "            \"kingdom\",\n",
    "            \"phylum\",\n",
    "            \"family\",\n",
    "            \"genus\",\n",
    "            \"specificepithet\",\n",
    "            \"country\",\n",
    "            \"stateprovince\",\n",
    "            \"county\"\n",
    "        ]\n",
    "    )\n",
    "\n",
    "def nest(level, strings):\n",
    "    separator = \"\\n\" + \"  \" * level + \"- \"\n",
    "    return separator + separator.join([str(s) for s in strings])\n",
    "\n",
    "def quote(strings):\n",
    "    return [f'\"{s}\"' for s in strings]\n",
    "\n",
    "print(\"Job parameters:\")\n",
    "print(f\"- Responses to analyze: {env.files.responses}\")\n",
    "print(f\"- Query phrasings (count: {env.num_phrasings}):{nest(2, quote(env.phrasings))}\")\n",
    "print(f\"- Query fields:{nest(2, quote(env.query_fields))}\")\n"
   ]
  },
  {
   "cell_type": "code",
   "execution_count": 194,
   "metadata": {},
   "outputs": [
    {
     "name": "stdout",
     "output_type": "stream",
     "text": [
      "15,099 records\n",
      "105,694 queries (#records x #phrasings)\n"
     ]
    },
    {
     "data": {
      "text/html": [
       "<div>\n",
       "<style scoped>\n",
       "    .dataframe tbody tr th:only-of-type {\n",
       "        vertical-align: middle;\n",
       "    }\n",
       "\n",
       "    .dataframe tbody tr th {\n",
       "        vertical-align: top;\n",
       "    }\n",
       "\n",
       "    .dataframe thead th {\n",
       "        text-align: right;\n",
       "    }\n",
       "</style>\n",
       "<table border=\"1\" class=\"dataframe\">\n",
       "  <thead>\n",
       "    <tr style=\"text-align: right;\">\n",
       "      <th></th>\n",
       "      <th>kingdom</th>\n",
       "      <th>phylum</th>\n",
       "      <th>family</th>\n",
       "      <th>genus</th>\n",
       "      <th>specificepithet</th>\n",
       "      <th>country</th>\n",
       "      <th>stateprovince</th>\n",
       "      <th>county</th>\n",
       "      <th>present</th>\n",
       "      <th>question number</th>\n",
       "      <th>phrasing</th>\n",
       "      <th>target</th>\n",
       "      <th>query id</th>\n",
       "      <th>response id</th>\n",
       "      <th>scores</th>\n",
       "      <th>yesnos</th>\n",
       "      <th>abstains</th>\n",
       "      <th>prediction</th>\n",
       "      <th>correct</th>\n",
       "    </tr>\n",
       "  </thead>\n",
       "  <tbody>\n",
       "    <tr>\n",
       "      <th>7</th>\n",
       "      <td>animalia</td>\n",
       "      <td>porifera</td>\n",
       "      <td>microcionidae</td>\n",
       "      <td>Clathria</td>\n",
       "      <td>aculeofila</td>\n",
       "      <td>Mexico</td>\n",
       "      <td>Nayarit</td>\n",
       "      <td>Bahia De Banderas</td>\n",
       "      <td>Yes</td>\n",
       "      <td>7</td>\n",
       "      <td>0</td>\n",
       "      <td>1</td>\n",
       "      <td>-9112614997047279818</td>\n",
       "      <td>5212465915756776068</td>\n",
       "      <td>0</td>\n",
       "      <td>10</td>\n",
       "      <td>0</td>\n",
       "      <td>-1</td>\n",
       "      <td>-1</td>\n",
       "    </tr>\n",
       "  </tbody>\n",
       "</table>\n",
       "</div>"
      ],
      "text/plain": [
       "    kingdom    phylum         family     genus specificepithet country  \\\n",
       "7  animalia  porifera  microcionidae  Clathria      aculeofila  Mexico   \n",
       "\n",
       "  stateprovince             county present  question number  phrasing  target  \\\n",
       "7       Nayarit  Bahia De Banderas     Yes                7         0       1   \n",
       "\n",
       "              query id          response id  scores  yesnos  abstains  \\\n",
       "7 -9112614997047279818  5212465915756776068       0      10         0   \n",
       "\n",
       "   prediction  correct  \n",
       "7          -1       -1  "
      ]
     },
     "execution_count": 194,
     "metadata": {},
     "output_type": "execute_result"
    }
   ],
   "source": [
    "def count_item(values, item):\n",
    "    counts = dict(Counter(values).most_common())\n",
    "    return counts[item] if item in counts else 0\n",
    "\n",
    "def make_id(df):\n",
    "    return df.apply(lambda r: hash(\"\".join([str(v) for v in r.values]).lower()), axis=1)\n",
    "\n",
    "def get_results(responses):\n",
    "    df = pd.read_csv(open(responses), sep=\"\\t\")\n",
    "\n",
    "    df[\"phrasing\"] = df[\"question number\"].astype(int) % env.num_phrasings\n",
    "    df[\"target\"] = (df[\"present\"] == \"Yes\").astype(int) * 2 - 1\n",
    "    df[\"query id\"] = make_id(df[env.query_fields])\n",
    "\n",
    "    df[\"response id\"] = make_id(df[[\"query id\", \"phrasing\"]])\n",
    "    df = df.groupby(\"response id\").head(1) # Drop responses for repeated questions\n",
    "\n",
    "    df[\"scores\"] = df[\"responses\"].apply(lambda r: count_item(r.lower().split(), \"yes\"))\n",
    "    df[\"yesnos\"] = df[\"responses\"].apply(lambda r: count_item(r.lower().split(), \"yes\") + count_item(r.lower().split(), \"no\"))\n",
    "    df[\"abstains\"] = 10 - df[\"yesnos\"]\n",
    "\n",
    "    df[\"prediction\"] = df[\"scores\"].apply(lambda x: -1 if x == 0 else 1) #.apply(lambda x: min(1, max(-1, x)))\n",
    "    df[\"correct\"] = df[\"prediction\"] * df[\"target\"]\n",
    "\n",
    "    return df\n",
    "\n",
    "UNUSED_FIELDS = [\"query\", \"responses\", \"input token count\", \"output token count\"]\n",
    "res = get_results(env.files.responses)\\\n",
    "    .drop(columns=UNUSED_FIELDS)\n",
    "\n",
    "# Drop fungi\n",
    "res = res[~(res[\"kingdom\"] == \"fungi\")]\n",
    "\n",
    "# Drop records with the same family and genus, they cause headaches later\n",
    "res = res[res[\"genus\"].apply(lambda s: s.lower()) != res[\"family\"].apply(lambda s: s.lower())]\n",
    "\n",
    "print(f\"{len(res) / env.num_phrasings:,.0f} records\")\n",
    "print(f\"{len(res):,.0f} queries (#records x #phrasings)\")\n",
    "res.head(1)"
   ]
  },
  {
   "cell_type": "code",
   "execution_count": 195,
   "metadata": {},
   "outputs": [
    {
     "data": {
      "text/html": [
       "<style type=\"text/css\">\n",
       "</style>\n",
       "<table id=\"T_e0df8\">\n",
       "  <thead>\n",
       "    <tr>\n",
       "      <th class=\"index_name level0\" >Phrasing</th>\n",
       "      <th id=\"T_e0df8_level0_col0\" class=\"col_heading level0 col0\" >0</th>\n",
       "      <th id=\"T_e0df8_level0_col1\" class=\"col_heading level0 col1\" >1</th>\n",
       "      <th id=\"T_e0df8_level0_col2\" class=\"col_heading level0 col2\" >2</th>\n",
       "      <th id=\"T_e0df8_level0_col3\" class=\"col_heading level0 col3\" >3</th>\n",
       "      <th id=\"T_e0df8_level0_col4\" class=\"col_heading level0 col4\" >4</th>\n",
       "      <th id=\"T_e0df8_level0_col5\" class=\"col_heading level0 col5\" >5</th>\n",
       "      <th id=\"T_e0df8_level0_col6\" class=\"col_heading level0 col6\" >6</th>\n",
       "    </tr>\n",
       "  </thead>\n",
       "  <tbody>\n",
       "    <tr>\n",
       "      <th id=\"T_e0df8_level0_row0\" class=\"row_heading level0 row0\" >Response accuracy</th>\n",
       "      <td id=\"T_e0df8_row0_col0\" class=\"data row0 col0\" >63.50%</td>\n",
       "      <td id=\"T_e0df8_row0_col1\" class=\"data row0 col1\" >67.40%</td>\n",
       "      <td id=\"T_e0df8_row0_col2\" class=\"data row0 col2\" >69.86%</td>\n",
       "      <td id=\"T_e0df8_row0_col3\" class=\"data row0 col3\" >59.04%</td>\n",
       "      <td id=\"T_e0df8_row0_col4\" class=\"data row0 col4\" >62.55%</td>\n",
       "      <td id=\"T_e0df8_row0_col5\" class=\"data row0 col5\" >62.32%</td>\n",
       "      <td id=\"T_e0df8_row0_col6\" class=\"data row0 col6\" >66.27%</td>\n",
       "    </tr>\n",
       "  </tbody>\n",
       "</table>\n"
      ],
      "text/plain": [
       "<pandas.io.formats.style.Styler at 0x7fbc761d9120>"
      ]
     },
     "metadata": {},
     "output_type": "display_data"
    },
    {
     "data": {
      "text/html": [
       "<style type=\"text/css\">\n",
       "</style>\n",
       "<table id=\"T_84e98\">\n",
       "  <thead>\n",
       "    <tr>\n",
       "      <th class=\"index_name level0\" >Actual presence</th>\n",
       "      <th id=\"T_84e98_level0_col0\" class=\"col_heading level0 col0\" >Absent</th>\n",
       "      <th id=\"T_84e98_level0_col1\" class=\"col_heading level0 col1\" >Present</th>\n",
       "    </tr>\n",
       "  </thead>\n",
       "  <tbody>\n",
       "    <tr>\n",
       "      <th id=\"T_84e98_level0_row0\" class=\"row_heading level0 row0\" >Response accuracy</th>\n",
       "      <td id=\"T_84e98_row0_col0\" class=\"data row0 col0\" >86.15%</td>\n",
       "      <td id=\"T_84e98_row0_col1\" class=\"data row0 col1\" >44.31%</td>\n",
       "    </tr>\n",
       "  </tbody>\n",
       "</table>\n"
      ],
      "text/plain": [
       "<pandas.io.formats.style.Styler at 0x7fbc76028d90>"
      ]
     },
     "metadata": {},
     "output_type": "display_data"
    },
    {
     "data": {
      "text/html": [
       "<style type=\"text/css\">\n",
       "</style>\n",
       "<table id=\"T_24f67\">\n",
       "  <thead>\n",
       "    <tr>\n",
       "      <th class=\"index_name level0\" >Predicted presence</th>\n",
       "      <th id=\"T_24f67_level0_col0\" class=\"col_heading level0 col0\" >Absent</th>\n",
       "      <th id=\"T_24f67_level0_col1\" class=\"col_heading level0 col1\" >Present</th>\n",
       "    </tr>\n",
       "  </thead>\n",
       "  <tbody>\n",
       "    <tr>\n",
       "      <th id=\"T_24f67_level0_row0\" class=\"row_heading level0 row0\" >Response accuracy</th>\n",
       "      <td id=\"T_24f67_row0_col0\" class=\"data row0 col0\" >58.88%</td>\n",
       "      <td id=\"T_24f67_row0_col1\" class=\"data row0 col1\" >77.55%</td>\n",
       "    </tr>\n",
       "  </tbody>\n",
       "</table>\n"
      ],
      "text/plain": [
       "<pandas.io.formats.style.Styler at 0x7fbc761d9120>"
      ]
     },
     "metadata": {},
     "output_type": "display_data"
    },
    {
     "data": {
      "text/html": [
       "<style type=\"text/css\">\n",
       "</style>\n",
       "<table id=\"T_17c20\">\n",
       "  <thead>\n",
       "    <tr>\n",
       "      <th class=\"index_name level0\" >Kingdom</th>\n",
       "      <th id=\"T_17c20_level0_col0\" class=\"col_heading level0 col0\" >animalia</th>\n",
       "      <th id=\"T_17c20_level0_col1\" class=\"col_heading level0 col1\" >plantae</th>\n",
       "    </tr>\n",
       "  </thead>\n",
       "  <tbody>\n",
       "    <tr>\n",
       "      <th id=\"T_17c20_level0_row0\" class=\"row_heading level0 row0\" >Response accuracy</th>\n",
       "      <td id=\"T_17c20_row0_col0\" class=\"data row0 col0\" >63.95%</td>\n",
       "      <td id=\"T_17c20_row0_col1\" class=\"data row0 col1\" >65.02%</td>\n",
       "    </tr>\n",
       "  </tbody>\n",
       "</table>\n"
      ],
      "text/plain": [
       "<pandas.io.formats.style.Styler at 0x7fbc7604b7f0>"
      ]
     },
     "metadata": {},
     "output_type": "display_data"
    }
   ],
   "source": [
    "def show_accuracies(df, field, title, remap_values={}, format=\"{:,.2%}\"):\n",
    "    df = pd.DataFrame(\n",
    "        (df.groupby(field)[\"correct\"].mean() * .5 + .5)\n",
    "        .rename(\"Response accuracy\")\n",
    "    ).transpose()\n",
    "    df.columns.name = title\n",
    "    df.rename(columns=remap_values, inplace=True)\n",
    "\n",
    "    display(df.style.format(format))\n",
    "\n",
    "show_accuracies(res, \"phrasing\", \"Phrasing\")\n",
    "show_accuracies(res, \"target\", \"Actual presence\", remap_values={-1: \"Absent\", 1: \"Present\"})\n",
    "show_accuracies(res, \"prediction\", \"Predicted presence\", remap_values={-1: \"Absent\", 1: \"Present\"})\n",
    "show_accuracies(res, \"kingdom\", \"Kingdom\")"
   ]
  },
  {
   "cell_type": "code",
   "execution_count": 196,
   "metadata": {},
   "outputs": [],
   "source": [
    "kpfg_scores = pd.read_csv(open(TAXONOMY_TESTSET_SCORES, \"r\"), sep=\"\\t\")\n",
    "kpfg_scores[\"accuracy\"] = (1 + kpfg_scores[\"num_correct\"]) / (2 + kpfg_scores[\"num_response\"])\n",
    "kpfg_scores = kpfg_scores.set_index([\"subject rank\", \"taxon\"])\n",
    "\n",
    "phrasing_avg_pred = res.groupby(\"query id\")[\"prediction\"].mean()\n",
    "phrasing_var_score = res.groupby(\"query id\")[\"scores\"].var()\n",
    "record_counts_by_taxon = pd.read_csv(open(TAXON_COUNTS, \"r\"), sep=\"\\t\").set_index([\"kingdom\", \"phylum\", \"family\"])"
   ]
  },
  {
   "cell_type": "code",
   "execution_count": 197,
   "metadata": {},
   "outputs": [
    {
     "data": {
      "text/plain": [
       "stateprovince\n",
       "Œle-De-France          7\n",
       "Santa Ana              7\n",
       "Sankt-Peterburg        7\n",
       "Gulf Of Mexico         7\n",
       "Sankt Gallen           7\n",
       "                   ...  \n",
       "Oklahoma            2688\n",
       "Massachusetts       2863\n",
       "Texas               3311\n",
       "Florida             9296\n",
       "California         11214\n",
       "Length: 600, dtype: int64"
      ]
     },
     "execution_count": 197,
     "metadata": {},
     "output_type": "execute_result"
    }
   ],
   "source": [
    "res.groupby(\"stateprovince\").size().sort_values()"
   ]
  },
  {
   "cell_type": "code",
   "execution_count": 199,
   "metadata": {},
   "outputs": [],
   "source": [
    "train_kingdoms = [\n",
    "    # \"animalia\",\n",
    "    \"plantae\",\n",
    "    # \"fungi\"\n",
    "]\n",
    "\n",
    "test_kingdoms = [\n",
    "    \"animalia\",\n",
    "    \"plantae\",\n",
    "    # \"fungi\"\n",
    "]\n",
    "\n",
    "test_fraction = .5\n",
    "\n",
    "features = [\n",
    "    \"um1_present\", # um1: scores\n",
    "    \"um1_absent\",\n",
    "    \"um1_either\",\n",
    "    \"um2\", # um2: number of abstains\n",
    "    \"um3_kingdom\", # um3: accuracy by field values\n",
    "    \"um3_phylum\",\n",
    "    # 'um3_family',\n",
    "    # \"um3_country\",\n",
    "    # \"um3_stateprovince\",\n",
    "    \"um4_agreement\", # Variance in scores with phrasing changes\n",
    "    \"um4_score_var\",\n",
    "    'um5_kingdom', # um5: iDigBio record counts by taxonomic ranks\n",
    "    'um5_phylum',\n",
    "    'um5_family',\n",
    "    \"um6_phylum\", # Accuracy on taxonomy questions\n",
    "    \"um6_family\",\n",
    "    \"um6_genus\",\n",
    "    \"um7_phylum\", # Number of yes-no responses to taxonomy questions\n",
    "    \"um7_family\",\n",
    "    \"um7_genus\",\n",
    "]\n",
    "\n",
    "predictions = {\n",
    "    -1,\n",
    "     1\n",
    "}\n",
    "\n",
    "only_valid_absences = True"
   ]
  },
  {
   "cell_type": "code",
   "execution_count": 198,
   "metadata": {},
   "outputs": [],
   "source": [
    "df = res[res[\"phrasing\"] == 0]\n",
    "df = df[(df[\"correct\"] != 0) * (df[\"phrasing\"] == 0) * df[\"kingdom\"].isin(test_kingdoms)]\n",
    "\n",
    "def get_acc_by_field(d, field, smoothing=100):\n",
    "    num_records = d.groupby(field).size()\n",
    "    num_correct = smoothing + d[d[\"correct\"] == 1].groupby(field).size().reindex(num_records.index).fillna(0)\n",
    "    num_incorrect = smoothing + d[d[\"correct\"] == -1].groupby(field).size().reindex(num_records.index).fillna(0)\n",
    "    return num_correct / (num_correct + num_incorrect)\n",
    "\n",
    "acc_by_rank = pd.Series({rank: get_acc_by_field(df, rank) for rank in [\"kingdom\", \"phylum\", \"family\"]})\n",
    "acc_by_country = get_acc_by_field(df, \"country\")\n",
    "acc_by_stateprovince = get_acc_by_field(df, \"stateprovince\")\n",
    "\n",
    "def get_ums(instance):\n",
    "    # TODO: condition um3 on prediction?\n",
    "    um5 = record_counts_by_taxon.loc[instance[\"kingdom\"], instance[\"phylum\"], instance[\"family\"]]\n",
    "    um1_present = instance[\"scores\"]\n",
    "    um1_absent = 1 if um1_present == 0 else 0\n",
    "\n",
    "    return pd.Series({\n",
    "        \"um1_present\": um1_present,\n",
    "        \"um1_absent\": um1_absent,\n",
    "        \"um1_either\": um1_present + um1_absent,\n",
    "        \"um2\": 1.0 - instance[\"abstains\"] / 10.0,\n",
    "        \"um3_kingdom\": acc_by_rank[\"kingdom\"][instance[\"kingdom\"]],\n",
    "        \"um3_phylum\": acc_by_rank[\"phylum\"][instance[\"phylum\"]],\n",
    "        \"um3_family\": acc_by_rank[\"family\"][instance[\"family\"]],\n",
    "        \"um3_country\": acc_by_country[instance[\"country\"]],\n",
    "        \"um3_stateprovince\": acc_by_stateprovince[instance[\"stateprovince\"]],\n",
    "        \"um4_agreement\": phrasing_avg_pred[instance[\"query id\"]] * -instance[\"prediction\"],\n",
    "        \"um4_score_var\": phrasing_var_score[instance[\"query id\"]],\n",
    "        \"um5_kingdom\": um5[\"kingdomCount\"],\n",
    "        \"um5_phylum\": um5[\"phylumCount\"],\n",
    "        \"um5_family\": um5[\"familyCount\"],\n",
    "        \"um6_phylum\": kpfg_scores[\"accuracy\"][\"phylum\"][instance[\"phylum\"].lower()],\n",
    "        \"um6_family\": kpfg_scores[\"accuracy\"][\"family\"][instance[\"family\"].lower()],\n",
    "        \"um6_genus\": kpfg_scores[\"accuracy\"][\"genus\"][instance[\"genus\"].lower()],\n",
    "        \"um7_phylum\": kpfg_scores[\"num_response\"][\"phylum\"][instance[\"phylum\"].lower()] / 10,\n",
    "        \"um7_family\": kpfg_scores[\"num_response\"][\"family\"][instance[\"family\"].lower()] / 40,\n",
    "        \"um7_genus\": kpfg_scores[\"num_response\"][\"genus\"][instance[\"genus\"].lower()] / 50,\n",
    "    })\n",
    "\n",
    "train_df = pd.concat([df.apply(lambda row: get_ums(row), axis=1), df], axis=1)"
   ]
  },
  {
   "cell_type": "code",
   "execution_count": 201,
   "metadata": {},
   "outputs": [
    {
     "data": {
      "image/png": "[encoded data removed]",
      "text/plain": [
       "<Figure size 1000x400 with 2 Axes>"
      ]
     },
     "metadata": {},
     "output_type": "display_data"
    }
   ],
   "source": [
    "import numpy as np\n",
    "from sklearn.ensemble import HistGradientBoostingClassifier\n",
    "from sklearn.model_selection import train_test_split\n",
    "from sklearn.metrics import RocCurveDisplay\n",
    "from sklearn.metrics import PrecisionRecallDisplay\n",
    "roc_args = {\"marker\":\".\", \"linestyle\":\"--\"}\n",
    "\n",
    "if only_valid_absences and \"valid\" in train_df:\n",
    "    tdf = train_df[train_df[\"valid\"]]\n",
    "else:\n",
    "    tdf = train_df\n",
    "\n",
    "if len(train_kingdoms) > 0:\n",
    "    train_set = tdf[tdf[\"kingdom\"].isin(train_kingdoms)]\n",
    "    test_set = tdf[tdf[\"kingdom\"].isin(test_kingdoms)]\n",
    "else:\n",
    "    train_set, test_set = train_test_split(\n",
    "        tdf[tdf[\"kingdom\"].isin(test_kingdoms) * tdf[\"prediction\"].isin(predictions)],\n",
    "        test_size=test_fraction\n",
    "    )\n",
    "\n",
    "xgboost = HistGradientBoostingClassifier(\n",
    "    loss='log_loss',\n",
    "    # early_stopping=True,\n",
    "    min_samples_leaf=1,\n",
    "    max_iter=100,\n",
    "    monotonic_cst=np.ones_like(features, dtype=int)\n",
    ").fit(train_set[features], train_set[\"correct\"]) # categorical_features=[\"stateprovince\"]\n",
    "\n",
    "k = test_kingdoms\n",
    "f, axes = plt.subplots(1, 2, figsize=(10, 4))\n",
    "\n",
    "if len(k) == 1:\n",
    "    axes = [axes]\n",
    "\n",
    "axes[0].title.set_text(f\"ROC\")\n",
    "axes[1].title.set_text(f\"Precision-recall\")\n",
    "\n",
    "for i, ik in enumerate(k):\n",
    "    ts = test_set[test_set[\"kingdom\"] == ik]\n",
    "    probs = xgboost.predict_proba(ts[features])\n",
    "    RocCurveDisplay.from_predictions(ts[\"correct\"], probs[:,1], ax=axes[0], **roc_args);\n",
    "    dis = PrecisionRecallDisplay.from_predictions(\n",
    "        ts[\"correct\"], probs[:,1], name=ik, plot_chance_level=True, drop_intermediate=True, ax=axes[1], drawstyle=\"default\", **roc_args\n",
    "    )\n",
    "    axes[1].set_ylim(0.5, 1)\n",
    "    axes[1].legend()\n",
    "plt.show()"
   ]
  },
  {
   "cell_type": "code",
   "execution_count": 204,
   "metadata": {},
   "outputs": [],
   "source": [
    "train_df[\"certainty\"] = xgboost.predict_proba(train_df[features])[:,1]\n",
    "train_df.to_csv(\"gpt4.tsv\", sep=\"\\t\")"
   ]
  },
  {
   "cell_type": "code",
   "execution_count": 172,
   "metadata": {},
   "outputs": [
    {
     "data": {
      "text/plain": [
       "phylum\n",
       "annelida         597\n",
       "mollusca         572\n",
       "chordata         548\n",
       "arthropoda       532\n",
       "brachiopoda      488\n",
       "bryozoa          426\n",
       "echinodermata    394\n",
       "cnidaria         365\n",
       "porifera         362\n",
       "Name: count, dtype: int64"
      ]
     },
     "execution_count": 172,
     "metadata": {},
     "output_type": "execute_result"
    }
   ],
   "source": [
    "df[df[\"kingdom\"] == \"animalia\"][\"phylum\"].value_counts()"
   ]
  },
  {
   "cell_type": "code",
   "execution_count": null,
   "metadata": {},
   "outputs": [],
   "source": [
    "ts = test_set\n",
    "ts[\"certainty\"] = xgboost.predict_proba(ts[features])[:,1]\n",
    "ts[\"correct\"] = ts[\"correct\"].clip(0,1)\n",
    "ts = ts.sort_values(\"certainty\")\n",
    "\n",
    "pd.DataFrame({\n",
    "    \"Certainty\": ts[\"certainty\"],\n",
    "    \"Precision\": [ts[ts[\"certainty\"] >= c][\"correct\"].mean() for c in ts[\"certainty\"]],\n",
    "    \"Trust rate\": [ts[ts[\"certainty\"] >= c].index.size / ts.index.size for c in ts[\"certainty\"]]\n",
    "}).set_index(\"Certainty\").plot()\n",
    "\n",
    "# Well-calibrated reference line\n",
    "plt.plot([0, 1], [0, 1], linestyle=\"--\", color=\"gray\")\n",
    "\n",
    "plt.xlim(0, 1)\n",
    "plt.ylim(0, 1)\n",
    "plt.show()"
   ]
  },
  {
   "cell_type": "code",
   "execution_count": null,
   "metadata": {},
   "outputs": [],
   "source": [
    "conf_model = (\n",
    "    \"isotonic\"\n",
    "    # \"logistic\"\n",
    ")\n",
    "calibration_set = (\n",
    "    train_set\n",
    "    # test_set\n",
    ")"
   ]
  },
  {
   "cell_type": "markdown",
   "metadata": {},
   "source": [
    "TODO - It would be better to calibrate on a subset, then test the calibration on the rest"
   ]
  },
  {
   "cell_type": "code",
   "execution_count": null,
   "metadata": {},
   "outputs": [],
   "source": [
    "from sklearn.linear_model import LogisticRegression\n",
    "from sklearn.isotonic import IsotonicRegression\n",
    "from sklearn.calibration import calibration_curve\n",
    "\n",
    "# Learn confidence function\n",
    "rs = calibration_set.copy()\n",
    "rs[\"certainty\"] = xgboost.predict_proba(rs[features])[:,1]\n",
    "rs[\"correct\"] = rs[\"correct\"].clip(0,1)\n",
    "rs = rs.sort_values(\"certainty\")\n",
    "\n",
    "if conf_model == \"isotonic\":\n",
    "    ir = IsotonicRegression(out_of_bounds=\"clip\").fit(rs[\"certainty\"].to_numpy(), rs[\"correct\"].to_numpy())\n",
    "    calibrate = lambda x: ir.transform(x) \n",
    "elif conf_model == \"logistic\":\n",
    "    lr = LogisticRegression().fit(rs[[\"certainty\"]].to_numpy(), rs[\"correct\"].to_numpy())\n",
    "    calibrate = lambda x: lr.predict_proba(x.reshape(-1, 1) if type(x) == np.ndarray else x.to_numpy().reshape(-1, 1))[:,1]\n",
    "else:\n",
    "    calibrate = lambda x: 0\n",
    "    uhoh\n",
    "\n",
    "# Plot confidence vs. precision\n",
    "ts[\"confidence\"] = calibrate(ts[\"certainty\"])\n",
    "\n",
    "pd.DataFrame({\n",
    "    \"Confidence\": ts[\"confidence\"],\n",
    "    \"Precision\": [ts[ts[\"confidence\"] >= c][\"correct\"].mean() for c in ts[\"confidence\"]],\n",
    "    \"Trust rate\": [ts[ts[\"confidence\"] >= c].index.size / ts.index.size for c in ts[\"confidence\"]]\n",
    "}).set_index(\"Confidence\").plot()\n",
    "\n",
    "# Well-calibrated reference line\n",
    "plt.plot([0, 1], [0, 1], linestyle=\"--\", color=\"gray\")\n",
    "\n",
    "plt.xlim(0, 1.01)\n",
    "plt.ylim(0, 1.01)\n",
    "plt.legend(loc=\"center right\")\n",
    "plt.show()"
   ]
  },
  {
   "cell_type": "code",
   "execution_count": null,
   "metadata": {},
   "outputs": [],
   "source": [
    "calibration_args = {\n",
    "    \"n_bins\": 100,\n",
    "    \"strategy\": (\n",
    "        # \"uniform\"\n",
    "        \"quantile\"\n",
    "    )\n",
    "}"
   ]
  },
  {
   "cell_type": "code",
   "execution_count": null,
   "metadata": {},
   "outputs": [],
   "source": [
    "args = calibration_args | { \"pos_label\": 1, \"y_true\": ts[\"correct\"] }\n",
    "cert_prob_true, cert = calibration_curve(y_prob=ts[\"certainty\"], **args)\n",
    "conf_prob_true, conf = calibration_curve(y_prob=ts[\"confidence\"], **args)\n",
    "\n",
    "print(\"Certainty ECE:\", abs(cert - cert_prob_true).sum() / len(cert))\n",
    "print(\"Confidence ECE:\", abs(conf - conf_prob_true).sum() / len(conf))\n",
    "\n",
    "plt.plot(cert, cert_prob_true, label=\"Accuracy\")\n",
    "plt.plot(cert, calibrate(cert), label=\"Confidence\")\n",
    "plt.xlabel(\"Uncertainty bins\")\n",
    "plt.xlim([0,1.01])\n",
    "plt.ylim([0,1.01])\n",
    "plt.legend()\n",
    "plt.show()"
   ]
  },
  {
   "cell_type": "code",
   "execution_count": null,
   "metadata": {},
   "outputs": [],
   "source": [
    "ts[[\"certainty\", \"confidence\"]].hist(bins=50)"
   ]
  }
 ],
 "metadata": {
  "kernelspec": {
   "display_name": "Python 3",
   "language": "python",
   "name": "python3"
  },
  "language_info": {
   "codemirror_mode": {
    "name": "ipython",
    "version": 3
   },
   "file_extension": ".py",
   "mimetype": "text/x-python",
   "name": "python",
   "nbconvert_exporter": "python",
   "pygments_lexer": "ipython3",
   "version": "3.10.12"
  },
  "orig_nbformat": 4
 },
 "nbformat": 4,
 "nbformat_minor": 2
}
